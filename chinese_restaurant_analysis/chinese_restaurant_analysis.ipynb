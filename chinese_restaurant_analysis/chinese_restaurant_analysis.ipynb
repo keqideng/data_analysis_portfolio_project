{
 "cells": [
  {
   "cell_type": "markdown",
   "source": [
    "# Chinese Eateries Analysis in U.S.\n",
    "Date: Sept 23, 2021\n",
    "\n",
    "Prepared by ***Keqi Deng***"
   ],
   "metadata": {
    "collapsed": false,
    "pycharm": {
     "name": "#%% md\n"
    }
   }
  },
  {
   "cell_type": "code",
   "execution_count": 10,
   "metadata": {
    "collapsed": true
   },
   "outputs": [],
   "source": [
    "import numpy as np\n",
    "import os\n",
    "import pandas as pd"
   ]
  },
  {
   "cell_type": "markdown",
   "source": [
    "## Data Source\n",
    "The data used in this analysis is provided by [Yelp Opendata](https://www.yelp.com/dataset), last update on Jan 21, 2021."
   ],
   "metadata": {
    "collapsed": false,
    "pycharm": {
     "name": "#%% md\n"
    }
   }
  },
  {
   "cell_type": "code",
   "execution_count": 15,
   "outputs": [
    {
     "ename": "ValueError",
     "evalue": "Expected object or value",
     "output_type": "error",
     "traceback": [
      "\u001B[0;31m---------------------------------------------------------------------------\u001B[0m",
      "\u001B[0;31mValueError\u001B[0m                                Traceback (most recent call last)",
      "\u001B[0;32m/var/folders/df/l_7_3v3s13b0w6_jwtd7kkrh0000gn/T/ipykernel_986/2717136465.py\u001B[0m in \u001B[0;36m<module>\u001B[0;34m\u001B[0m\n\u001B[0;32m----> 1\u001B[0;31m \u001B[0myelp_df\u001B[0m \u001B[0;34m=\u001B[0m \u001B[0mpd\u001B[0m\u001B[0;34m.\u001B[0m\u001B[0mread_json\u001B[0m\u001B[0;34m(\u001B[0m\u001B[0;34m'/Users/keqideng/Documents/Developer/DataAnalytic/profile_project_datadump/yelp_dataset/yelp_dataset/yelp_academic_dataset_business.json'\u001B[0m\u001B[0;34m,\u001B[0m \u001B[0mlines\u001B[0m\u001B[0;34m=\u001B[0m\u001B[0;32mTrue\u001B[0m\u001B[0;34m)\u001B[0m\u001B[0;34m\u001B[0m\u001B[0;34m\u001B[0m\u001B[0m\n\u001B[0m\u001B[1;32m      2\u001B[0m \u001B[0myelp_df\u001B[0m\u001B[0;34m.\u001B[0m\u001B[0mhead\u001B[0m\u001B[0;34m(\u001B[0m\u001B[0;36m2\u001B[0m\u001B[0;34m)\u001B[0m\u001B[0;34m\u001B[0m\u001B[0;34m\u001B[0m\u001B[0m\n\u001B[1;32m      3\u001B[0m \u001B[0;34m\u001B[0m\u001B[0m\n",
      "\u001B[0;32m~/Documents/School/pyCharm/CalculationSheet/venv/lib/python3.8/site-packages/pandas/util/_decorators.py\u001B[0m in \u001B[0;36mwrapper\u001B[0;34m(*args, **kwargs)\u001B[0m\n\u001B[1;32m    205\u001B[0m                 \u001B[0;32melse\u001B[0m\u001B[0;34m:\u001B[0m\u001B[0;34m\u001B[0m\u001B[0;34m\u001B[0m\u001B[0m\n\u001B[1;32m    206\u001B[0m                     \u001B[0mkwargs\u001B[0m\u001B[0;34m[\u001B[0m\u001B[0mnew_arg_name\u001B[0m\u001B[0;34m]\u001B[0m \u001B[0;34m=\u001B[0m \u001B[0mnew_arg_value\u001B[0m\u001B[0;34m\u001B[0m\u001B[0;34m\u001B[0m\u001B[0m\n\u001B[0;32m--> 207\u001B[0;31m             \u001B[0;32mreturn\u001B[0m \u001B[0mfunc\u001B[0m\u001B[0;34m(\u001B[0m\u001B[0;34m*\u001B[0m\u001B[0margs\u001B[0m\u001B[0;34m,\u001B[0m \u001B[0;34m**\u001B[0m\u001B[0mkwargs\u001B[0m\u001B[0;34m)\u001B[0m\u001B[0;34m\u001B[0m\u001B[0;34m\u001B[0m\u001B[0m\n\u001B[0m\u001B[1;32m    208\u001B[0m \u001B[0;34m\u001B[0m\u001B[0m\n\u001B[1;32m    209\u001B[0m         \u001B[0;32mreturn\u001B[0m \u001B[0mcast\u001B[0m\u001B[0;34m(\u001B[0m\u001B[0mF\u001B[0m\u001B[0;34m,\u001B[0m \u001B[0mwrapper\u001B[0m\u001B[0;34m)\u001B[0m\u001B[0;34m\u001B[0m\u001B[0;34m\u001B[0m\u001B[0m\n",
      "\u001B[0;32m~/Documents/School/pyCharm/CalculationSheet/venv/lib/python3.8/site-packages/pandas/util/_decorators.py\u001B[0m in \u001B[0;36mwrapper\u001B[0;34m(*args, **kwargs)\u001B[0m\n\u001B[1;32m    309\u001B[0m                     \u001B[0mstacklevel\u001B[0m\u001B[0;34m=\u001B[0m\u001B[0mstacklevel\u001B[0m\u001B[0;34m,\u001B[0m\u001B[0;34m\u001B[0m\u001B[0;34m\u001B[0m\u001B[0m\n\u001B[1;32m    310\u001B[0m                 )\n\u001B[0;32m--> 311\u001B[0;31m             \u001B[0;32mreturn\u001B[0m \u001B[0mfunc\u001B[0m\u001B[0;34m(\u001B[0m\u001B[0;34m*\u001B[0m\u001B[0margs\u001B[0m\u001B[0;34m,\u001B[0m \u001B[0;34m**\u001B[0m\u001B[0mkwargs\u001B[0m\u001B[0;34m)\u001B[0m\u001B[0;34m\u001B[0m\u001B[0;34m\u001B[0m\u001B[0m\n\u001B[0m\u001B[1;32m    312\u001B[0m \u001B[0;34m\u001B[0m\u001B[0m\n\u001B[1;32m    313\u001B[0m         \u001B[0;32mreturn\u001B[0m \u001B[0mwrapper\u001B[0m\u001B[0;34m\u001B[0m\u001B[0;34m\u001B[0m\u001B[0m\n",
      "\u001B[0;32m~/Documents/School/pyCharm/CalculationSheet/venv/lib/python3.8/site-packages/pandas/io/json/_json.py\u001B[0m in \u001B[0;36mread_json\u001B[0;34m(path_or_buf, orient, typ, dtype, convert_axes, convert_dates, keep_default_dates, numpy, precise_float, date_unit, encoding, encoding_errors, lines, chunksize, compression, nrows, storage_options)\u001B[0m\n\u001B[1;32m    612\u001B[0m \u001B[0;34m\u001B[0m\u001B[0m\n\u001B[1;32m    613\u001B[0m     \u001B[0;32mwith\u001B[0m \u001B[0mjson_reader\u001B[0m\u001B[0;34m:\u001B[0m\u001B[0;34m\u001B[0m\u001B[0;34m\u001B[0m\u001B[0m\n\u001B[0;32m--> 614\u001B[0;31m         \u001B[0;32mreturn\u001B[0m \u001B[0mjson_reader\u001B[0m\u001B[0;34m.\u001B[0m\u001B[0mread\u001B[0m\u001B[0;34m(\u001B[0m\u001B[0;34m)\u001B[0m\u001B[0;34m\u001B[0m\u001B[0;34m\u001B[0m\u001B[0m\n\u001B[0m\u001B[1;32m    615\u001B[0m \u001B[0;34m\u001B[0m\u001B[0m\n\u001B[1;32m    616\u001B[0m \u001B[0;34m\u001B[0m\u001B[0m\n",
      "\u001B[0;32m~/Documents/School/pyCharm/CalculationSheet/venv/lib/python3.8/site-packages/pandas/io/json/_json.py\u001B[0m in \u001B[0;36mread\u001B[0;34m(self)\u001B[0m\n\u001B[1;32m    744\u001B[0m                 \u001B[0mdata\u001B[0m \u001B[0;34m=\u001B[0m \u001B[0mensure_str\u001B[0m\u001B[0;34m(\u001B[0m\u001B[0mself\u001B[0m\u001B[0;34m.\u001B[0m\u001B[0mdata\u001B[0m\u001B[0;34m)\u001B[0m\u001B[0;34m\u001B[0m\u001B[0;34m\u001B[0m\u001B[0m\n\u001B[1;32m    745\u001B[0m                 \u001B[0mdata_lines\u001B[0m \u001B[0;34m=\u001B[0m \u001B[0mdata\u001B[0m\u001B[0;34m.\u001B[0m\u001B[0msplit\u001B[0m\u001B[0;34m(\u001B[0m\u001B[0;34m\"\\n\"\u001B[0m\u001B[0;34m)\u001B[0m\u001B[0;34m\u001B[0m\u001B[0;34m\u001B[0m\u001B[0m\n\u001B[0;32m--> 746\u001B[0;31m                 \u001B[0mobj\u001B[0m \u001B[0;34m=\u001B[0m \u001B[0mself\u001B[0m\u001B[0;34m.\u001B[0m\u001B[0m_get_object_parser\u001B[0m\u001B[0;34m(\u001B[0m\u001B[0mself\u001B[0m\u001B[0;34m.\u001B[0m\u001B[0m_combine_lines\u001B[0m\u001B[0;34m(\u001B[0m\u001B[0mdata_lines\u001B[0m\u001B[0;34m)\u001B[0m\u001B[0;34m)\u001B[0m\u001B[0;34m\u001B[0m\u001B[0;34m\u001B[0m\u001B[0m\n\u001B[0m\u001B[1;32m    747\u001B[0m         \u001B[0;32melse\u001B[0m\u001B[0;34m:\u001B[0m\u001B[0;34m\u001B[0m\u001B[0;34m\u001B[0m\u001B[0m\n\u001B[1;32m    748\u001B[0m             \u001B[0mobj\u001B[0m \u001B[0;34m=\u001B[0m \u001B[0mself\u001B[0m\u001B[0;34m.\u001B[0m\u001B[0m_get_object_parser\u001B[0m\u001B[0;34m(\u001B[0m\u001B[0mself\u001B[0m\u001B[0;34m.\u001B[0m\u001B[0mdata\u001B[0m\u001B[0;34m)\u001B[0m\u001B[0;34m\u001B[0m\u001B[0;34m\u001B[0m\u001B[0m\n",
      "\u001B[0;32m~/Documents/School/pyCharm/CalculationSheet/venv/lib/python3.8/site-packages/pandas/io/json/_json.py\u001B[0m in \u001B[0;36m_get_object_parser\u001B[0;34m(self, json)\u001B[0m\n\u001B[1;32m    768\u001B[0m         \u001B[0mobj\u001B[0m \u001B[0;34m=\u001B[0m \u001B[0;32mNone\u001B[0m\u001B[0;34m\u001B[0m\u001B[0;34m\u001B[0m\u001B[0m\n\u001B[1;32m    769\u001B[0m         \u001B[0;32mif\u001B[0m \u001B[0mtyp\u001B[0m \u001B[0;34m==\u001B[0m \u001B[0;34m\"frame\"\u001B[0m\u001B[0;34m:\u001B[0m\u001B[0;34m\u001B[0m\u001B[0;34m\u001B[0m\u001B[0m\n\u001B[0;32m--> 770\u001B[0;31m             \u001B[0mobj\u001B[0m \u001B[0;34m=\u001B[0m \u001B[0mFrameParser\u001B[0m\u001B[0;34m(\u001B[0m\u001B[0mjson\u001B[0m\u001B[0;34m,\u001B[0m \u001B[0;34m**\u001B[0m\u001B[0mkwargs\u001B[0m\u001B[0;34m)\u001B[0m\u001B[0;34m.\u001B[0m\u001B[0mparse\u001B[0m\u001B[0;34m(\u001B[0m\u001B[0;34m)\u001B[0m\u001B[0;34m\u001B[0m\u001B[0;34m\u001B[0m\u001B[0m\n\u001B[0m\u001B[1;32m    771\u001B[0m \u001B[0;34m\u001B[0m\u001B[0m\n\u001B[1;32m    772\u001B[0m         \u001B[0;32mif\u001B[0m \u001B[0mtyp\u001B[0m \u001B[0;34m==\u001B[0m \u001B[0;34m\"series\"\u001B[0m \u001B[0;32mor\u001B[0m \u001B[0mobj\u001B[0m \u001B[0;32mis\u001B[0m \u001B[0;32mNone\u001B[0m\u001B[0;34m:\u001B[0m\u001B[0;34m\u001B[0m\u001B[0;34m\u001B[0m\u001B[0m\n",
      "\u001B[0;32m~/Documents/School/pyCharm/CalculationSheet/venv/lib/python3.8/site-packages/pandas/io/json/_json.py\u001B[0m in \u001B[0;36mparse\u001B[0;34m(self)\u001B[0m\n\u001B[1;32m    883\u001B[0m \u001B[0;34m\u001B[0m\u001B[0m\n\u001B[1;32m    884\u001B[0m         \u001B[0;32melse\u001B[0m\u001B[0;34m:\u001B[0m\u001B[0;34m\u001B[0m\u001B[0;34m\u001B[0m\u001B[0m\n\u001B[0;32m--> 885\u001B[0;31m             \u001B[0mself\u001B[0m\u001B[0;34m.\u001B[0m\u001B[0m_parse_no_numpy\u001B[0m\u001B[0;34m(\u001B[0m\u001B[0;34m)\u001B[0m\u001B[0;34m\u001B[0m\u001B[0;34m\u001B[0m\u001B[0m\n\u001B[0m\u001B[1;32m    886\u001B[0m \u001B[0;34m\u001B[0m\u001B[0m\n\u001B[1;32m    887\u001B[0m         \u001B[0;32mif\u001B[0m \u001B[0mself\u001B[0m\u001B[0;34m.\u001B[0m\u001B[0mobj\u001B[0m \u001B[0;32mis\u001B[0m \u001B[0;32mNone\u001B[0m\u001B[0;34m:\u001B[0m\u001B[0;34m\u001B[0m\u001B[0;34m\u001B[0m\u001B[0m\n",
      "\u001B[0;32m~/Documents/School/pyCharm/CalculationSheet/venv/lib/python3.8/site-packages/pandas/io/json/_json.py\u001B[0m in \u001B[0;36m_parse_no_numpy\u001B[0;34m(self)\u001B[0m\n\u001B[1;32m   1138\u001B[0m         \u001B[0;32mif\u001B[0m \u001B[0morient\u001B[0m \u001B[0;34m==\u001B[0m \u001B[0;34m\"columns\"\u001B[0m\u001B[0;34m:\u001B[0m\u001B[0;34m\u001B[0m\u001B[0;34m\u001B[0m\u001B[0m\n\u001B[1;32m   1139\u001B[0m             self.obj = DataFrame(\n\u001B[0;32m-> 1140\u001B[0;31m                 \u001B[0mloads\u001B[0m\u001B[0;34m(\u001B[0m\u001B[0mjson\u001B[0m\u001B[0;34m,\u001B[0m \u001B[0mprecise_float\u001B[0m\u001B[0;34m=\u001B[0m\u001B[0mself\u001B[0m\u001B[0;34m.\u001B[0m\u001B[0mprecise_float\u001B[0m\u001B[0;34m)\u001B[0m\u001B[0;34m,\u001B[0m \u001B[0mdtype\u001B[0m\u001B[0;34m=\u001B[0m\u001B[0;32mNone\u001B[0m\u001B[0;34m\u001B[0m\u001B[0;34m\u001B[0m\u001B[0m\n\u001B[0m\u001B[1;32m   1141\u001B[0m             )\n\u001B[1;32m   1142\u001B[0m         \u001B[0;32melif\u001B[0m \u001B[0morient\u001B[0m \u001B[0;34m==\u001B[0m \u001B[0;34m\"split\"\u001B[0m\u001B[0;34m:\u001B[0m\u001B[0;34m\u001B[0m\u001B[0;34m\u001B[0m\u001B[0m\n",
      "\u001B[0;31mValueError\u001B[0m: Expected object or value"
     ]
    }
   ],
   "source": [
    "yelp_df = pd.read_json('yelp_dataset/yelp_academic_dataset_business.json', lines=True)\n",
    "yelp_df.head(2)"
   ],
   "metadata": {
    "collapsed": false,
    "pycharm": {
     "name": "#%%\n"
    }
   }
  },
  {
   "cell_type": "code",
   "execution_count": 12,
   "outputs": [
    {
     "name": "stdout",
     "output_type": "stream",
     "text": [
      "<class 'pandas.core.frame.DataFrame'>\n",
      "RangeIndex: 160585 entries, 0 to 160584\n",
      "Data columns (total 14 columns):\n",
      " #   Column        Non-Null Count   Dtype  \n",
      "---  ------        --------------   -----  \n",
      " 0   business_id   160585 non-null  object \n",
      " 1   name          160585 non-null  object \n",
      " 2   address       160585 non-null  object \n",
      " 3   city          160585 non-null  object \n",
      " 4   state         160585 non-null  object \n",
      " 5   postal_code   160585 non-null  object \n",
      " 6   latitude      160585 non-null  float64\n",
      " 7   longitude     160585 non-null  float64\n",
      " 8   stars         160585 non-null  float64\n",
      " 9   review_count  160585 non-null  int64  \n",
      " 10  is_open       160585 non-null  int64  \n",
      " 11  attributes    145593 non-null  object \n",
      " 12  categories    160470 non-null  object \n",
      " 13  hours         133244 non-null  object \n",
      "dtypes: float64(3), int64(2), object(9)\n",
      "memory usage: 17.2+ MB\n"
     ]
    }
   ],
   "source": [
    "# Dataset information\n",
    "yelp_df.info()"
   ],
   "metadata": {
    "collapsed": false,
    "pycharm": {
     "name": "#%%\n"
    }
   }
  },
  {
   "cell_type": "code",
   "execution_count": 13,
   "outputs": [
    {
     "data": {
      "text/plain": "160585"
     },
     "execution_count": 13,
     "metadata": {},
     "output_type": "execute_result"
    }
   ],
   "source": [
    "# Dataset length:\n",
    "len(yelp_df)"
   ],
   "metadata": {
    "collapsed": false,
    "pycharm": {
     "name": "#%%\n"
    }
   }
  },
  {
   "cell_type": "markdown",
   "source": [
    "## Dataset Modification\n",
    "Modify the Dataset to Find Restaurants Labeled *Chinese*"
   ],
   "metadata": {
    "collapsed": false,
    "pycharm": {
     "name": "#%% md\n"
    }
   }
  },
  {
   "cell_type": "code",
   "execution_count": 14,
   "outputs": [
    {
     "data": {
      "text/plain": "               business_id                name           address        city  \\\n53  djolOChjDtxniurUFP_SXA       Panda Express  1460 Rinehart Rd     Sanford   \n75  3ME_CSB1bo4F0QMhQRUeOA  Yan's China Bistro   146 Humphrey St  Swampscott   \n\n   state postal_code   latitude  longitude  stars  review_count  is_open  \\\n53    FL       32771  28.800686 -81.331712    2.5            47        1   \n75    MA       01907  42.468081 -70.916752    4.0            74        1   \n\n                                           attributes  \\\n53  {'RestaurantsGoodForGroups': 'True', 'GoodForK...   \n75  {'RestaurantsGoodForGroups': 'True', 'NoiseLev...   \n\n                         categories  \\\n53  Restaurants, Chinese, Fast Food   \n75             Restaurants, Chinese   \n\n                                                hours  \n53  {'Monday': '10:30-21:0', 'Tuesday': '10:30-21:...  \n75  {'Monday': '11:30-22:0', 'Tuesday': '11:30-22:...  ",
      "text/html": "<div>\n<style scoped>\n    .dataframe tbody tr th:only-of-type {\n        vertical-align: middle;\n    }\n\n    .dataframe tbody tr th {\n        vertical-align: top;\n    }\n\n    .dataframe thead th {\n        text-align: right;\n    }\n</style>\n<table border=\"1\" class=\"dataframe\">\n  <thead>\n    <tr style=\"text-align: right;\">\n      <th></th>\n      <th>business_id</th>\n      <th>name</th>\n      <th>address</th>\n      <th>city</th>\n      <th>state</th>\n      <th>postal_code</th>\n      <th>latitude</th>\n      <th>longitude</th>\n      <th>stars</th>\n      <th>review_count</th>\n      <th>is_open</th>\n      <th>attributes</th>\n      <th>categories</th>\n      <th>hours</th>\n    </tr>\n  </thead>\n  <tbody>\n    <tr>\n      <th>53</th>\n      <td>djolOChjDtxniurUFP_SXA</td>\n      <td>Panda Express</td>\n      <td>1460 Rinehart Rd</td>\n      <td>Sanford</td>\n      <td>FL</td>\n      <td>32771</td>\n      <td>28.800686</td>\n      <td>-81.331712</td>\n      <td>2.5</td>\n      <td>47</td>\n      <td>1</td>\n      <td>{'RestaurantsGoodForGroups': 'True', 'GoodForK...</td>\n      <td>Restaurants, Chinese, Fast Food</td>\n      <td>{'Monday': '10:30-21:0', 'Tuesday': '10:30-21:...</td>\n    </tr>\n    <tr>\n      <th>75</th>\n      <td>3ME_CSB1bo4F0QMhQRUeOA</td>\n      <td>Yan's China Bistro</td>\n      <td>146 Humphrey St</td>\n      <td>Swampscott</td>\n      <td>MA</td>\n      <td>01907</td>\n      <td>42.468081</td>\n      <td>-70.916752</td>\n      <td>4.0</td>\n      <td>74</td>\n      <td>1</td>\n      <td>{'RestaurantsGoodForGroups': 'True', 'NoiseLev...</td>\n      <td>Restaurants, Chinese</td>\n      <td>{'Monday': '11:30-22:0', 'Tuesday': '11:30-22:...</td>\n    </tr>\n  </tbody>\n</table>\n</div>"
     },
     "execution_count": 14,
     "metadata": {},
     "output_type": "execute_result"
    }
   ],
   "source": [
    "chinese_df = yelp_df[yelp_df.categories.str.contains('Chinese', na=False)]\n",
    "chinese_df.head(2)"
   ],
   "metadata": {
    "collapsed": false,
    "pycharm": {
     "name": "#%%\n"
    }
   }
  }
 ],
 "metadata": {
  "kernelspec": {
   "display_name": "Python 3",
   "language": "python",
   "name": "python3"
  },
  "language_info": {
   "codemirror_mode": {
    "name": "ipython",
    "version": 2
   },
   "file_extension": ".py",
   "mimetype": "text/x-python",
   "name": "python",
   "nbconvert_exporter": "python",
   "pygments_lexer": "ipython2",
   "version": "2.7.6"
  }
 },
 "nbformat": 4,
 "nbformat_minor": 0
}