{
 "cells": [
  {
   "cell_type": "markdown",
   "source": [
    "# Chinese Eateries Analysis in U.S.\n",
    "Date: Sept 23, 2021\n",
    "\n",
    "Prepared by ***Keqi Deng***"
   ],
   "metadata": {
    "collapsed": false,
    "pycharm": {
     "name": "#%% md\n"
    }
   }
  },
  {
   "cell_type": "code",
   "execution_count": 16,
   "metadata": {
    "collapsed": true
   },
   "outputs": [],
   "source": [
    "import numpy as np\n",
    "import os\n",
    "import pandas as pd"
   ]
  },
  {
   "cell_type": "markdown",
   "source": [
    "## Data Source\n",
    "The data used in this analysis is provided by [Yelp Opendata](https://www.yelp.com/dataset), last update on Jan 21, 2021."
   ],
   "metadata": {
    "collapsed": false,
    "pycharm": {
     "name": "#%% md\n"
    }
   }
  },
  {
   "cell_type": "code",
   "execution_count": 17,
   "outputs": [
    {
     "data": {
      "text/plain": "              business_id                     name              address  \\\n0  6iYb2HFDywm3zjuRg0shjw      Oskar Blues Taproom         921 Pearl St   \n1  tCbdrRPZA0oiIYSmHG3J0w  Flying Elephants at PDX  7000 NE Airport Way   \n\n       city state postal_code   latitude   longitude  stars  review_count  \\\n0   Boulder    CO       80302  40.017544 -105.283348    4.0            86   \n1  Portland    OR       97218  45.588906 -122.593331    4.0           126   \n\n   is_open                                         attributes  \\\n0        1  {'RestaurantsTableService': 'True', 'WiFi': 'u...   \n1        1  {'RestaurantsTakeOut': 'True', 'RestaurantsAtt...   \n\n                                          categories  \\\n0  Gastropubs, Food, Beer Gardens, Restaurants, B...   \n1  Salad, Soup, Sandwiches, Delis, Restaurants, C...   \n\n                                               hours  \n0  {'Monday': '11:0-23:0', 'Tuesday': '11:0-23:0'...  \n1  {'Monday': '5:0-18:0', 'Tuesday': '5:0-17:0', ...  ",
      "text/html": "<div>\n<style scoped>\n    .dataframe tbody tr th:only-of-type {\n        vertical-align: middle;\n    }\n\n    .dataframe tbody tr th {\n        vertical-align: top;\n    }\n\n    .dataframe thead th {\n        text-align: right;\n    }\n</style>\n<table border=\"1\" class=\"dataframe\">\n  <thead>\n    <tr style=\"text-align: right;\">\n      <th></th>\n      <th>business_id</th>\n      <th>name</th>\n      <th>address</th>\n      <th>city</th>\n      <th>state</th>\n      <th>postal_code</th>\n      <th>latitude</th>\n      <th>longitude</th>\n      <th>stars</th>\n      <th>review_count</th>\n      <th>is_open</th>\n      <th>attributes</th>\n      <th>categories</th>\n      <th>hours</th>\n    </tr>\n  </thead>\n  <tbody>\n    <tr>\n      <th>0</th>\n      <td>6iYb2HFDywm3zjuRg0shjw</td>\n      <td>Oskar Blues Taproom</td>\n      <td>921 Pearl St</td>\n      <td>Boulder</td>\n      <td>CO</td>\n      <td>80302</td>\n      <td>40.017544</td>\n      <td>-105.283348</td>\n      <td>4.0</td>\n      <td>86</td>\n      <td>1</td>\n      <td>{'RestaurantsTableService': 'True', 'WiFi': 'u...</td>\n      <td>Gastropubs, Food, Beer Gardens, Restaurants, B...</td>\n      <td>{'Monday': '11:0-23:0', 'Tuesday': '11:0-23:0'...</td>\n    </tr>\n    <tr>\n      <th>1</th>\n      <td>tCbdrRPZA0oiIYSmHG3J0w</td>\n      <td>Flying Elephants at PDX</td>\n      <td>7000 NE Airport Way</td>\n      <td>Portland</td>\n      <td>OR</td>\n      <td>97218</td>\n      <td>45.588906</td>\n      <td>-122.593331</td>\n      <td>4.0</td>\n      <td>126</td>\n      <td>1</td>\n      <td>{'RestaurantsTakeOut': 'True', 'RestaurantsAtt...</td>\n      <td>Salad, Soup, Sandwiches, Delis, Restaurants, C...</td>\n      <td>{'Monday': '5:0-18:0', 'Tuesday': '5:0-17:0', ...</td>\n    </tr>\n  </tbody>\n</table>\n</div>"
     },
     "execution_count": 17,
     "metadata": {},
     "output_type": "execute_result"
    }
   ],
   "source": [
    "yelp_df = pd.read_json('yelp_dataset/yelp_academic_dataset_business.json', lines=True)\n",
    "yelp_df.head(2)"
   ],
   "metadata": {
    "collapsed": false,
    "pycharm": {
     "name": "#%%\n"
    }
   }
  },
  {
   "cell_type": "code",
   "execution_count": 18,
   "outputs": [
    {
     "name": "stdout",
     "output_type": "stream",
     "text": [
      "<class 'pandas.core.frame.DataFrame'>\n",
      "RangeIndex: 160585 entries, 0 to 160584\n",
      "Data columns (total 14 columns):\n",
      " #   Column        Non-Null Count   Dtype  \n",
      "---  ------        --------------   -----  \n",
      " 0   business_id   160585 non-null  object \n",
      " 1   name          160585 non-null  object \n",
      " 2   address       160585 non-null  object \n",
      " 3   city          160585 non-null  object \n",
      " 4   state         160585 non-null  object \n",
      " 5   postal_code   160585 non-null  object \n",
      " 6   latitude      160585 non-null  float64\n",
      " 7   longitude     160585 non-null  float64\n",
      " 8   stars         160585 non-null  float64\n",
      " 9   review_count  160585 non-null  int64  \n",
      " 10  is_open       160585 non-null  int64  \n",
      " 11  attributes    145593 non-null  object \n",
      " 12  categories    160470 non-null  object \n",
      " 13  hours         133244 non-null  object \n",
      "dtypes: float64(3), int64(2), object(9)\n",
      "memory usage: 17.2+ MB\n"
     ]
    }
   ],
   "source": [
    "# Dataset information\n",
    "yelp_df.info()"
   ],
   "metadata": {
    "collapsed": false,
    "pycharm": {
     "name": "#%%\n"
    }
   }
  },
  {
   "cell_type": "code",
   "execution_count": 21,
   "outputs": [
    {
     "data": {
      "text/plain": "160585"
     },
     "execution_count": 21,
     "metadata": {},
     "output_type": "execute_result"
    }
   ],
   "source": [
    "# Dataset length:\n",
    "len(yelp_df)"
   ],
   "metadata": {
    "collapsed": false,
    "pycharm": {
     "name": "#%%\n"
    }
   }
  },
  {
   "cell_type": "markdown",
   "source": [
    "## Dataset Modification\n",
    "Modify the Dataset to Find Restaurants Labeled *Chinese*"
   ],
   "metadata": {
    "collapsed": false,
    "pycharm": {
     "name": "#%% md\n"
    }
   }
  },
  {
   "cell_type": "code",
   "execution_count": 25,
   "outputs": [
    {
     "data": {
      "text/plain": "                business_id                    name             address  \\\n53   djolOChjDtxniurUFP_SXA           Panda Express    1460 Rinehart Rd   \n75   3ME_CSB1bo4F0QMhQRUeOA      Yan's China Bistro     146 Humphrey St   \n101  bS5DScsLQSFDcbGnPD2GbQ             Sage Clinic    487 Davie Street   \n105  TbZDLpBOl-EbO2LfMySrEg  First China Restaurant  5295 Buford Hwy NE   \n132  5eq56X-e9YbAKmHgUOyXSg              Hunan Lion    2038 Crown Plaza   \n\n           city state postal_code   latitude   longitude  stars  review_count  \\\n53      Sanford    FL       32771  28.800686  -81.331712    2.5            47   \n75   Swampscott    MA       01907  42.468081  -70.916752    4.0            74   \n101   Vancouver    BC     V6B 2G2  49.275872 -123.123857    3.0             8   \n105     Atlanta    GA       30340  33.896640  -84.280918    3.0            11   \n132    Columbus    OH       43220  40.065378  -83.071415    4.0           162   \n\n     is_open                                         attributes  \\\n53         1  {'RestaurantsGoodForGroups': 'True', 'GoodForK...   \n75         1  {'RestaurantsGoodForGroups': 'True', 'NoiseLev...   \n101        0  {'ByAppointmentOnly': 'False', 'WiFi': 'u'free...   \n105        0  {'RestaurantsGoodForGroups': 'True', 'Business...   \n132        1  {'GoodForKids': 'True', 'RestaurantsGoodForGro...   \n\n                                            categories  \\\n53                     Restaurants, Chinese, Fast Food   \n75                                Restaurants, Chinese   \n101  Acupuncture, Naturopathic/Holistic, Health & M...   \n105                               Restaurants, Chinese   \n132                               Chinese, Restaurants   \n\n                                                 hours  \n53   {'Monday': '10:30-21:0', 'Tuesday': '10:30-21:...  \n75   {'Monday': '11:30-22:0', 'Tuesday': '11:30-22:...  \n101  {'Monday': '0:0-0:0', 'Tuesday': '10:0-19:0', ...  \n105                                               None  \n132  {'Monday': '11:30-22:0', 'Tuesday': '11:30-22:...  ",
      "text/html": "<div>\n<style scoped>\n    .dataframe tbody tr th:only-of-type {\n        vertical-align: middle;\n    }\n\n    .dataframe tbody tr th {\n        vertical-align: top;\n    }\n\n    .dataframe thead th {\n        text-align: right;\n    }\n</style>\n<table border=\"1\" class=\"dataframe\">\n  <thead>\n    <tr style=\"text-align: right;\">\n      <th></th>\n      <th>business_id</th>\n      <th>name</th>\n      <th>address</th>\n      <th>city</th>\n      <th>state</th>\n      <th>postal_code</th>\n      <th>latitude</th>\n      <th>longitude</th>\n      <th>stars</th>\n      <th>review_count</th>\n      <th>is_open</th>\n      <th>attributes</th>\n      <th>categories</th>\n      <th>hours</th>\n    </tr>\n  </thead>\n  <tbody>\n    <tr>\n      <th>53</th>\n      <td>djolOChjDtxniurUFP_SXA</td>\n      <td>Panda Express</td>\n      <td>1460 Rinehart Rd</td>\n      <td>Sanford</td>\n      <td>FL</td>\n      <td>32771</td>\n      <td>28.800686</td>\n      <td>-81.331712</td>\n      <td>2.5</td>\n      <td>47</td>\n      <td>1</td>\n      <td>{'RestaurantsGoodForGroups': 'True', 'GoodForK...</td>\n      <td>Restaurants, Chinese, Fast Food</td>\n      <td>{'Monday': '10:30-21:0', 'Tuesday': '10:30-21:...</td>\n    </tr>\n    <tr>\n      <th>75</th>\n      <td>3ME_CSB1bo4F0QMhQRUeOA</td>\n      <td>Yan's China Bistro</td>\n      <td>146 Humphrey St</td>\n      <td>Swampscott</td>\n      <td>MA</td>\n      <td>01907</td>\n      <td>42.468081</td>\n      <td>-70.916752</td>\n      <td>4.0</td>\n      <td>74</td>\n      <td>1</td>\n      <td>{'RestaurantsGoodForGroups': 'True', 'NoiseLev...</td>\n      <td>Restaurants, Chinese</td>\n      <td>{'Monday': '11:30-22:0', 'Tuesday': '11:30-22:...</td>\n    </tr>\n    <tr>\n      <th>101</th>\n      <td>bS5DScsLQSFDcbGnPD2GbQ</td>\n      <td>Sage Clinic</td>\n      <td>487 Davie Street</td>\n      <td>Vancouver</td>\n      <td>BC</td>\n      <td>V6B 2G2</td>\n      <td>49.275872</td>\n      <td>-123.123857</td>\n      <td>3.0</td>\n      <td>8</td>\n      <td>0</td>\n      <td>{'ByAppointmentOnly': 'False', 'WiFi': 'u'free...</td>\n      <td>Acupuncture, Naturopathic/Holistic, Health &amp; M...</td>\n      <td>{'Monday': '0:0-0:0', 'Tuesday': '10:0-19:0', ...</td>\n    </tr>\n    <tr>\n      <th>105</th>\n      <td>TbZDLpBOl-EbO2LfMySrEg</td>\n      <td>First China Restaurant</td>\n      <td>5295 Buford Hwy NE</td>\n      <td>Atlanta</td>\n      <td>GA</td>\n      <td>30340</td>\n      <td>33.896640</td>\n      <td>-84.280918</td>\n      <td>3.0</td>\n      <td>11</td>\n      <td>0</td>\n      <td>{'RestaurantsGoodForGroups': 'True', 'Business...</td>\n      <td>Restaurants, Chinese</td>\n      <td>None</td>\n    </tr>\n    <tr>\n      <th>132</th>\n      <td>5eq56X-e9YbAKmHgUOyXSg</td>\n      <td>Hunan Lion</td>\n      <td>2038 Crown Plaza</td>\n      <td>Columbus</td>\n      <td>OH</td>\n      <td>43220</td>\n      <td>40.065378</td>\n      <td>-83.071415</td>\n      <td>4.0</td>\n      <td>162</td>\n      <td>1</td>\n      <td>{'GoodForKids': 'True', 'RestaurantsGoodForGro...</td>\n      <td>Chinese, Restaurants</td>\n      <td>{'Monday': '11:30-22:0', 'Tuesday': '11:30-22:...</td>\n    </tr>\n  </tbody>\n</table>\n</div>"
     },
     "execution_count": 25,
     "metadata": {},
     "output_type": "execute_result"
    }
   ],
   "source": [
    "chinese_df = yelp_df[yelp_df.categories.str.contains('Chinese', na=False)]\n",
    "chinese_df.head()"
   ],
   "metadata": {
    "collapsed": false,
    "pycharm": {
     "name": "#%%\n"
    }
   }
  }
 ],
 "metadata": {
  "kernelspec": {
   "display_name": "Python 3",
   "language": "python",
   "name": "python3"
  },
  "language_info": {
   "codemirror_mode": {
    "name": "ipython",
    "version": 2
   },
   "file_extension": ".py",
   "mimetype": "text/x-python",
   "name": "python",
   "nbconvert_exporter": "python",
   "pygments_lexer": "ipython2",
   "version": "2.7.6"
  }
 },
 "nbformat": 4,
 "nbformat_minor": 0
}