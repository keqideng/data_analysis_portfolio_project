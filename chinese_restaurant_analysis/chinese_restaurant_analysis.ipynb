{
 "cells": [
  {
   "cell_type": "markdown",
   "source": [
    "[Back](https://keqideng.github.io/data_analysis_portfolio_project/)\n",
    "# Chinese Eateries Analysis in U.S.\n",
    "Date: Sept 23, 2021\n",
    "Prepared by ***Keqi Deng***\n",
    "\n",
    ">This dataset is a subset of Yelp’s businesses, reviews, and user data. It was originally put together for the Yelp Dataset Challenge which is a chance for students to conduct research or analysis on Yelp’s data and share their discoveries. In the dataset you’ll find information about businesses across 11 metropolitan areas in four countries."
   ],
   "metadata": {
    "collapsed": false,
    "pycharm": {
     "name": "#%% md\n"
    }
   }
  },
  {
   "cell_type": "code",
   "execution_count": 89,
   "metadata": {
    "collapsed": true
   },
   "outputs": [
    {
     "data": {
      "text/html": "        <script type=\"text/javascript\">\n        window.PlotlyConfig = {MathJaxConfig: 'local'};\n        if (window.MathJax) {MathJax.Hub.Config({SVG: {font: \"STIX-Web\"}});}\n        if (typeof require !== 'undefined') {\n        require.undef(\"plotly\");\n        requirejs.config({\n            paths: {\n                'plotly': ['https://cdn.plot.ly/plotly-2.4.2.min']\n            }\n        });\n        require(['plotly'], function(Plotly) {\n            window._Plotly = Plotly;\n        });\n        }\n        </script>\n        "
     },
     "metadata": {},
     "output_type": "display_data"
    }
   ],
   "source": [
    "import gc # garbage collector\n",
    "import numpy as np # linear algebra\n",
    "from collections import Counter # for counting commong words\n",
    "import requests\n",
    "# request data from yelp\n",
    "import pandas as pd # data processing, CSV file I/O (e.g. pd.read_csv)\n",
    "import matplotlib.pyplot as plt # visualization\n",
    "plt.style.use('fivethirtyeight') # use ggplot ploting style\n",
    "import seaborn as sns # visualization\n",
    "from wordcloud import WordCloud, STOPWORDS # this module is for making wordcloud in python\n",
    "import re # regular expression\n",
    "import string # for finding punctuation in text\n",
    "import nltk # preprocessing text\n",
    "from textblob import TextBlob\n",
    "# import ploty for visualization\n",
    "import plotly\n",
    "import plotly.offline as py # make offline\n",
    "py.init_notebook_mode(connected=True)\n",
    "import plotly.tools as tls\n",
    "import plotly.graph_objs as go\n",
    "from plotly.graph_objs import *\n",
    "import plotly.tools as tls\n",
    "import plotly.figure_factory as fig_fact\n",
    "# remove warnings\n",
    "import warnings\n",
    "warnings.filterwarnings('ignore')\n",
    "# this will allow ploting inside the notebook\n",
    "%matplotlib inline"
   ]
  },
  {
   "cell_type": "markdown",
   "source": [
    "## Data Source\n",
    "The data used in this analysis is provided by [Yelp Opendata](https://www.yelp.com/dataset), last update on Jan 21, 2021."
   ],
   "metadata": {
    "collapsed": false,
    "pycharm": {
     "name": "#%% md\n"
    }
   }
  },
  {
   "cell_type": "code",
   "execution_count": 90,
   "outputs": [],
   "source": [
    "#Business Search Yelp 'https://api.yelp.com/v3/businesses/search'\n",
    "client_id = 'By4LztDH6ULQMoOWW73Uag'\n",
    "api_key = 'hC90EyLZwRlSqQGxIzbg_t8CAfz0aFyIovi270VIjCqEGHBx8xXyPGW4HUQoIh2ELaArE7Lw3zIM9aLkJQkuREJs5S4G1HtBx43eFCpvnP8IebL-uZk2CBKfFqxQYXYx'\n",
    "endpoint = 'https://api.yelp.com/v3/businesses/search'\n",
    "headers = {'Authorization': 'bearer %s'%api_key}\n",
    "\n",
    "#Define the parameters\n",
    "params = {'term':'chinese,restaurants',\n",
    "          'limit':50,\n",
    "          'radius':10000,\n",
    "          'location':'NYC'}\n",
    "\n",
    "#Make a request to the yelp api\n",
    "response = requests.get(url=endpoint, params=params, headers=headers)"
   ],
   "metadata": {
    "collapsed": false,
    "pycharm": {
     "name": "#%%\n"
    }
   }
  },
  {
   "cell_type": "code",
   "execution_count": 91,
   "outputs": [
    {
     "data": {
      "text/plain": "                       id                                         alias  \\\n0  0CjK3esfpFcxIopebzjFxA                      joes-shanghai-new-york-2   \n1  wfhMIiMh2A2psCGONOVSlg                          han-dynasty-new-york   \n2  0dDCDQz7DrKkSvu9h2hcQw                           chow-house-new-york   \n3  lynQoI3w_pzYfHGeuUU-Qg  shu-jiao-fu-zhou-cuisine-restaurant-new-york   \n4  xq0cX_DgxiJMXwhmEl9kUA                         café-china-new-york-2   \n\n                                  name  \\\n0                       Joe's Shanghai   \n1                          Han Dynasty   \n2                           Chow House   \n3  Shu Jiao Fu Zhou Cuisine Restaurant   \n4                           Café China   \n\n                                           image_url  is_closed  \\\n0  https://s3-media4.fl.yelpcdn.com/bphoto/KRvabB...      False   \n1  https://s3-media3.fl.yelpcdn.com/bphoto/G5jm9G...      False   \n2  https://s3-media3.fl.yelpcdn.com/bphoto/kzeCls...      False   \n3  https://s3-media2.fl.yelpcdn.com/bphoto/EV10p_...      False   \n4  https://s3-media1.fl.yelpcdn.com/bphoto/UhHqxE...      False   \n\n                                                 url  review_count  \\\n0  https://www.yelp.com/biz/joes-shanghai-new-yor...          6433   \n1  https://www.yelp.com/biz/han-dynasty-new-york?...          1273   \n2  https://www.yelp.com/biz/chow-house-new-york?a...           455   \n3  https://www.yelp.com/biz/shu-jiao-fu-zhou-cuis...           910   \n4  https://www.yelp.com/biz/caf%C3%A9-china-new-y...          1693   \n\n                                          categories  rating  \\\n0  [{'alias': 'shanghainese', 'title': 'Shanghain...     4.0   \n1  [{'alias': 'szechuan', 'title': 'Szechuan'}, {...     4.0   \n2  [{'alias': 'szechuan', 'title': 'Szechuan'}, {...     4.5   \n3         [{'alias': 'chinese', 'title': 'Chinese'}]     4.5   \n4       [{'alias': 'szechuan', 'title': 'Szechuan'}]     4.0   \n\n                                         coordinates  \\\n0  {'latitude': 40.7156608, 'longitude': -73.9967...   \n1   {'latitude': 40.732072, 'longitude': -73.988074}   \n2     {'latitude': 40.72915, 'longitude': -74.00072}   \n3  {'latitude': 40.7174109, 'longitude': -73.9920...   \n4     {'latitude': 40.75157, 'longitude': -73.98584}   \n\n                                 transactions price  \\\n0                          [pickup, delivery]    $$   \n1                          [pickup, delivery]    $$   \n2  [delivery, pickup, restaurant_reservation]    $$   \n3                          [delivery, pickup]     $   \n4                          [pickup, delivery]    $$   \n\n                                            location         phone  \\\n0  {'address1': '46 Bowery St', 'address2': '', '...  +12122338888   \n1  {'address1': '90 3rd Ave', 'address2': '', 'ad...  +12123908685   \n2  {'address1': '181 Bleecker St', 'address2': No...  +12128371021   \n3  {'address1': '295 Grand St', 'address2': None,...  +12126252532   \n4  {'address1': '59 West 37th St', 'address2': No...  +12122132810   \n\n    display_phone     distance  \n0  (212) 233-8888  1153.948239  \n1  (212) 390-8685  3006.833805  \n2  (212) 837-1021  2692.440180  \n3  (212) 625-2532  1343.485119  \n4  (212) 213-2810  5186.281754  ",
      "text/html": "<div>\n<style scoped>\n    .dataframe tbody tr th:only-of-type {\n        vertical-align: middle;\n    }\n\n    .dataframe tbody tr th {\n        vertical-align: top;\n    }\n\n    .dataframe thead th {\n        text-align: right;\n    }\n</style>\n<table border=\"1\" class=\"dataframe\">\n  <thead>\n    <tr style=\"text-align: right;\">\n      <th></th>\n      <th>id</th>\n      <th>alias</th>\n      <th>name</th>\n      <th>image_url</th>\n      <th>is_closed</th>\n      <th>url</th>\n      <th>review_count</th>\n      <th>categories</th>\n      <th>rating</th>\n      <th>coordinates</th>\n      <th>transactions</th>\n      <th>price</th>\n      <th>location</th>\n      <th>phone</th>\n      <th>display_phone</th>\n      <th>distance</th>\n    </tr>\n  </thead>\n  <tbody>\n    <tr>\n      <th>0</th>\n      <td>0CjK3esfpFcxIopebzjFxA</td>\n      <td>joes-shanghai-new-york-2</td>\n      <td>Joe's Shanghai</td>\n      <td>https://s3-media4.fl.yelpcdn.com/bphoto/KRvabB...</td>\n      <td>False</td>\n      <td>https://www.yelp.com/biz/joes-shanghai-new-yor...</td>\n      <td>6433</td>\n      <td>[{'alias': 'shanghainese', 'title': 'Shanghain...</td>\n      <td>4.0</td>\n      <td>{'latitude': 40.7156608, 'longitude': -73.9967...</td>\n      <td>[pickup, delivery]</td>\n      <td>$$</td>\n      <td>{'address1': '46 Bowery St', 'address2': '', '...</td>\n      <td>+12122338888</td>\n      <td>(212) 233-8888</td>\n      <td>1153.948239</td>\n    </tr>\n    <tr>\n      <th>1</th>\n      <td>wfhMIiMh2A2psCGONOVSlg</td>\n      <td>han-dynasty-new-york</td>\n      <td>Han Dynasty</td>\n      <td>https://s3-media3.fl.yelpcdn.com/bphoto/G5jm9G...</td>\n      <td>False</td>\n      <td>https://www.yelp.com/biz/han-dynasty-new-york?...</td>\n      <td>1273</td>\n      <td>[{'alias': 'szechuan', 'title': 'Szechuan'}, {...</td>\n      <td>4.0</td>\n      <td>{'latitude': 40.732072, 'longitude': -73.988074}</td>\n      <td>[pickup, delivery]</td>\n      <td>$$</td>\n      <td>{'address1': '90 3rd Ave', 'address2': '', 'ad...</td>\n      <td>+12123908685</td>\n      <td>(212) 390-8685</td>\n      <td>3006.833805</td>\n    </tr>\n    <tr>\n      <th>2</th>\n      <td>0dDCDQz7DrKkSvu9h2hcQw</td>\n      <td>chow-house-new-york</td>\n      <td>Chow House</td>\n      <td>https://s3-media3.fl.yelpcdn.com/bphoto/kzeCls...</td>\n      <td>False</td>\n      <td>https://www.yelp.com/biz/chow-house-new-york?a...</td>\n      <td>455</td>\n      <td>[{'alias': 'szechuan', 'title': 'Szechuan'}, {...</td>\n      <td>4.5</td>\n      <td>{'latitude': 40.72915, 'longitude': -74.00072}</td>\n      <td>[delivery, pickup, restaurant_reservation]</td>\n      <td>$$</td>\n      <td>{'address1': '181 Bleecker St', 'address2': No...</td>\n      <td>+12128371021</td>\n      <td>(212) 837-1021</td>\n      <td>2692.440180</td>\n    </tr>\n    <tr>\n      <th>3</th>\n      <td>lynQoI3w_pzYfHGeuUU-Qg</td>\n      <td>shu-jiao-fu-zhou-cuisine-restaurant-new-york</td>\n      <td>Shu Jiao Fu Zhou Cuisine Restaurant</td>\n      <td>https://s3-media2.fl.yelpcdn.com/bphoto/EV10p_...</td>\n      <td>False</td>\n      <td>https://www.yelp.com/biz/shu-jiao-fu-zhou-cuis...</td>\n      <td>910</td>\n      <td>[{'alias': 'chinese', 'title': 'Chinese'}]</td>\n      <td>4.5</td>\n      <td>{'latitude': 40.7174109, 'longitude': -73.9920...</td>\n      <td>[delivery, pickup]</td>\n      <td>$</td>\n      <td>{'address1': '295 Grand St', 'address2': None,...</td>\n      <td>+12126252532</td>\n      <td>(212) 625-2532</td>\n      <td>1343.485119</td>\n    </tr>\n    <tr>\n      <th>4</th>\n      <td>xq0cX_DgxiJMXwhmEl9kUA</td>\n      <td>café-china-new-york-2</td>\n      <td>Café China</td>\n      <td>https://s3-media1.fl.yelpcdn.com/bphoto/UhHqxE...</td>\n      <td>False</td>\n      <td>https://www.yelp.com/biz/caf%C3%A9-china-new-y...</td>\n      <td>1693</td>\n      <td>[{'alias': 'szechuan', 'title': 'Szechuan'}]</td>\n      <td>4.0</td>\n      <td>{'latitude': 40.75157, 'longitude': -73.98584}</td>\n      <td>[pickup, delivery]</td>\n      <td>$$</td>\n      <td>{'address1': '59 West 37th St', 'address2': No...</td>\n      <td>+12122132810</td>\n      <td>(212) 213-2810</td>\n      <td>5186.281754</td>\n    </tr>\n  </tbody>\n</table>\n</div>"
     },
     "execution_count": 91,
     "metadata": {},
     "output_type": "execute_result"
    }
   ],
   "source": [
    "#Convert json string to dictionary\n",
    "business_data = response.json()\n",
    "df = pd.DataFrame(business_data['businesses'])\n",
    "df.head()"
   ],
   "metadata": {
    "collapsed": false,
    "pycharm": {
     "name": "#%%\n"
    }
   }
  },
  {
   "cell_type": "code",
   "execution_count": 92,
   "outputs": [],
   "source": [
    "coordinates = df.coordinates\n",
    "lat = [i['latitude'] for i in coordinates]\n",
    "lon = [i['longitude'] for i in coordinates]\n",
    "df['latitude'] = lat\n",
    "df['longitude'] = lon\n",
    "df.drop('coordinates',axis=1,inplace=True)"
   ],
   "metadata": {
    "collapsed": false,
    "pycharm": {
     "name": "#%%\n"
    }
   }
  },
  {
   "cell_type": "code",
   "execution_count": 93,
   "outputs": [
    {
     "data": {
      "text/plain": "                       id                                         alias  \\\n0  0CjK3esfpFcxIopebzjFxA                      joes-shanghai-new-york-2   \n1  wfhMIiMh2A2psCGONOVSlg                          han-dynasty-new-york   \n2  0dDCDQz7DrKkSvu9h2hcQw                           chow-house-new-york   \n3  lynQoI3w_pzYfHGeuUU-Qg  shu-jiao-fu-zhou-cuisine-restaurant-new-york   \n4  xq0cX_DgxiJMXwhmEl9kUA                         café-china-new-york-2   \n\n                                  name  \\\n0                       Joe's Shanghai   \n1                          Han Dynasty   \n2                           Chow House   \n3  Shu Jiao Fu Zhou Cuisine Restaurant   \n4                           Café China   \n\n                                           image_url  is_closed  \\\n0  https://s3-media4.fl.yelpcdn.com/bphoto/KRvabB...      False   \n1  https://s3-media3.fl.yelpcdn.com/bphoto/G5jm9G...      False   \n2  https://s3-media3.fl.yelpcdn.com/bphoto/kzeCls...      False   \n3  https://s3-media2.fl.yelpcdn.com/bphoto/EV10p_...      False   \n4  https://s3-media1.fl.yelpcdn.com/bphoto/UhHqxE...      False   \n\n                                                 url  review_count  \\\n0  https://www.yelp.com/biz/joes-shanghai-new-yor...          6433   \n1  https://www.yelp.com/biz/han-dynasty-new-york?...          1273   \n2  https://www.yelp.com/biz/chow-house-new-york?a...           455   \n3  https://www.yelp.com/biz/shu-jiao-fu-zhou-cuis...           910   \n4  https://www.yelp.com/biz/caf%C3%A9-china-new-y...          1693   \n\n                                          categories  rating  \\\n0  [{'alias': 'shanghainese', 'title': 'Shanghain...     4.0   \n1  [{'alias': 'szechuan', 'title': 'Szechuan'}, {...     4.0   \n2  [{'alias': 'szechuan', 'title': 'Szechuan'}, {...     4.5   \n3         [{'alias': 'chinese', 'title': 'Chinese'}]     4.5   \n4       [{'alias': 'szechuan', 'title': 'Szechuan'}]     4.0   \n\n                                 transactions price  \\\n0                          [pickup, delivery]    $$   \n1                          [pickup, delivery]    $$   \n2  [delivery, pickup, restaurant_reservation]    $$   \n3                          [delivery, pickup]     $   \n4                          [pickup, delivery]    $$   \n\n                                            location         phone  \\\n0  {'address1': '46 Bowery St', 'address2': '', '...  +12122338888   \n1  {'address1': '90 3rd Ave', 'address2': '', 'ad...  +12123908685   \n2  {'address1': '181 Bleecker St', 'address2': No...  +12128371021   \n3  {'address1': '295 Grand St', 'address2': None,...  +12126252532   \n4  {'address1': '59 West 37th St', 'address2': No...  +12122132810   \n\n    display_phone     distance   latitude  longitude  \n0  (212) 233-8888  1153.948239  40.715661 -73.996701  \n1  (212) 390-8685  3006.833805  40.732072 -73.988074  \n2  (212) 837-1021  2692.440180  40.729150 -74.000720  \n3  (212) 625-2532  1343.485119  40.717411 -73.992088  \n4  (212) 213-2810  5186.281754  40.751570 -73.985840  ",
      "text/html": "<div>\n<style scoped>\n    .dataframe tbody tr th:only-of-type {\n        vertical-align: middle;\n    }\n\n    .dataframe tbody tr th {\n        vertical-align: top;\n    }\n\n    .dataframe thead th {\n        text-align: right;\n    }\n</style>\n<table border=\"1\" class=\"dataframe\">\n  <thead>\n    <tr style=\"text-align: right;\">\n      <th></th>\n      <th>id</th>\n      <th>alias</th>\n      <th>name</th>\n      <th>image_url</th>\n      <th>is_closed</th>\n      <th>url</th>\n      <th>review_count</th>\n      <th>categories</th>\n      <th>rating</th>\n      <th>transactions</th>\n      <th>price</th>\n      <th>location</th>\n      <th>phone</th>\n      <th>display_phone</th>\n      <th>distance</th>\n      <th>latitude</th>\n      <th>longitude</th>\n    </tr>\n  </thead>\n  <tbody>\n    <tr>\n      <th>0</th>\n      <td>0CjK3esfpFcxIopebzjFxA</td>\n      <td>joes-shanghai-new-york-2</td>\n      <td>Joe's Shanghai</td>\n      <td>https://s3-media4.fl.yelpcdn.com/bphoto/KRvabB...</td>\n      <td>False</td>\n      <td>https://www.yelp.com/biz/joes-shanghai-new-yor...</td>\n      <td>6433</td>\n      <td>[{'alias': 'shanghainese', 'title': 'Shanghain...</td>\n      <td>4.0</td>\n      <td>[pickup, delivery]</td>\n      <td>$$</td>\n      <td>{'address1': '46 Bowery St', 'address2': '', '...</td>\n      <td>+12122338888</td>\n      <td>(212) 233-8888</td>\n      <td>1153.948239</td>\n      <td>40.715661</td>\n      <td>-73.996701</td>\n    </tr>\n    <tr>\n      <th>1</th>\n      <td>wfhMIiMh2A2psCGONOVSlg</td>\n      <td>han-dynasty-new-york</td>\n      <td>Han Dynasty</td>\n      <td>https://s3-media3.fl.yelpcdn.com/bphoto/G5jm9G...</td>\n      <td>False</td>\n      <td>https://www.yelp.com/biz/han-dynasty-new-york?...</td>\n      <td>1273</td>\n      <td>[{'alias': 'szechuan', 'title': 'Szechuan'}, {...</td>\n      <td>4.0</td>\n      <td>[pickup, delivery]</td>\n      <td>$$</td>\n      <td>{'address1': '90 3rd Ave', 'address2': '', 'ad...</td>\n      <td>+12123908685</td>\n      <td>(212) 390-8685</td>\n      <td>3006.833805</td>\n      <td>40.732072</td>\n      <td>-73.988074</td>\n    </tr>\n    <tr>\n      <th>2</th>\n      <td>0dDCDQz7DrKkSvu9h2hcQw</td>\n      <td>chow-house-new-york</td>\n      <td>Chow House</td>\n      <td>https://s3-media3.fl.yelpcdn.com/bphoto/kzeCls...</td>\n      <td>False</td>\n      <td>https://www.yelp.com/biz/chow-house-new-york?a...</td>\n      <td>455</td>\n      <td>[{'alias': 'szechuan', 'title': 'Szechuan'}, {...</td>\n      <td>4.5</td>\n      <td>[delivery, pickup, restaurant_reservation]</td>\n      <td>$$</td>\n      <td>{'address1': '181 Bleecker St', 'address2': No...</td>\n      <td>+12128371021</td>\n      <td>(212) 837-1021</td>\n      <td>2692.440180</td>\n      <td>40.729150</td>\n      <td>-74.000720</td>\n    </tr>\n    <tr>\n      <th>3</th>\n      <td>lynQoI3w_pzYfHGeuUU-Qg</td>\n      <td>shu-jiao-fu-zhou-cuisine-restaurant-new-york</td>\n      <td>Shu Jiao Fu Zhou Cuisine Restaurant</td>\n      <td>https://s3-media2.fl.yelpcdn.com/bphoto/EV10p_...</td>\n      <td>False</td>\n      <td>https://www.yelp.com/biz/shu-jiao-fu-zhou-cuis...</td>\n      <td>910</td>\n      <td>[{'alias': 'chinese', 'title': 'Chinese'}]</td>\n      <td>4.5</td>\n      <td>[delivery, pickup]</td>\n      <td>$</td>\n      <td>{'address1': '295 Grand St', 'address2': None,...</td>\n      <td>+12126252532</td>\n      <td>(212) 625-2532</td>\n      <td>1343.485119</td>\n      <td>40.717411</td>\n      <td>-73.992088</td>\n    </tr>\n    <tr>\n      <th>4</th>\n      <td>xq0cX_DgxiJMXwhmEl9kUA</td>\n      <td>café-china-new-york-2</td>\n      <td>Café China</td>\n      <td>https://s3-media1.fl.yelpcdn.com/bphoto/UhHqxE...</td>\n      <td>False</td>\n      <td>https://www.yelp.com/biz/caf%C3%A9-china-new-y...</td>\n      <td>1693</td>\n      <td>[{'alias': 'szechuan', 'title': 'Szechuan'}]</td>\n      <td>4.0</td>\n      <td>[pickup, delivery]</td>\n      <td>$$</td>\n      <td>{'address1': '59 West 37th St', 'address2': No...</td>\n      <td>+12122132810</td>\n      <td>(212) 213-2810</td>\n      <td>5186.281754</td>\n      <td>40.751570</td>\n      <td>-73.985840</td>\n    </tr>\n  </tbody>\n</table>\n</div>"
     },
     "execution_count": 93,
     "metadata": {},
     "output_type": "execute_result"
    }
   ],
   "source": [
    "df.head()"
   ],
   "metadata": {
    "collapsed": false,
    "pycharm": {
     "name": "#%%\n"
    }
   }
  },
  {
   "cell_type": "code",
   "execution_count": 94,
   "outputs": [
    {
     "data": {
      "text/plain": "                       id                     alias            name  \\\n0  0CjK3esfpFcxIopebzjFxA  joes-shanghai-new-york-2  Joe's Shanghai   \n1  wfhMIiMh2A2psCGONOVSlg      han-dynasty-new-york     Han Dynasty   \n\n                                           image_url  is_closed  \\\n0  https://s3-media4.fl.yelpcdn.com/bphoto/KRvabB...      False   \n1  https://s3-media3.fl.yelpcdn.com/bphoto/G5jm9G...      False   \n\n                                                 url  review_count  \\\n0  https://www.yelp.com/biz/joes-shanghai-new-yor...          6433   \n1  https://www.yelp.com/biz/han-dynasty-new-york?...          1273   \n\n                                          categories  rating  \\\n0  [{'alias': 'shanghainese', 'title': 'Shanghain...     4.0   \n1  [{'alias': 'szechuan', 'title': 'Szechuan'}, {...     4.0   \n\n         transactions price  \\\n0  [pickup, delivery]    $$   \n1  [pickup, delivery]    $$   \n\n                                            location         phone  \\\n0  {'address1': '46 Bowery St', 'address2': '', '...  +12122338888   \n1  {'address1': '90 3rd Ave', 'address2': '', 'ad...  +12123908685   \n\n    display_phone     distance   latitude  longitude  \n0  (212) 233-8888  1153.948239  40.715661 -73.996701  \n1  (212) 390-8685  3006.833805  40.732072 -73.988074  ",
      "text/html": "<div>\n<style scoped>\n    .dataframe tbody tr th:only-of-type {\n        vertical-align: middle;\n    }\n\n    .dataframe tbody tr th {\n        vertical-align: top;\n    }\n\n    .dataframe thead th {\n        text-align: right;\n    }\n</style>\n<table border=\"1\" class=\"dataframe\">\n  <thead>\n    <tr style=\"text-align: right;\">\n      <th></th>\n      <th>id</th>\n      <th>alias</th>\n      <th>name</th>\n      <th>image_url</th>\n      <th>is_closed</th>\n      <th>url</th>\n      <th>review_count</th>\n      <th>categories</th>\n      <th>rating</th>\n      <th>transactions</th>\n      <th>price</th>\n      <th>location</th>\n      <th>phone</th>\n      <th>display_phone</th>\n      <th>distance</th>\n      <th>latitude</th>\n      <th>longitude</th>\n    </tr>\n  </thead>\n  <tbody>\n    <tr>\n      <th>0</th>\n      <td>0CjK3esfpFcxIopebzjFxA</td>\n      <td>joes-shanghai-new-york-2</td>\n      <td>Joe's Shanghai</td>\n      <td>https://s3-media4.fl.yelpcdn.com/bphoto/KRvabB...</td>\n      <td>False</td>\n      <td>https://www.yelp.com/biz/joes-shanghai-new-yor...</td>\n      <td>6433</td>\n      <td>[{'alias': 'shanghainese', 'title': 'Shanghain...</td>\n      <td>4.0</td>\n      <td>[pickup, delivery]</td>\n      <td>$$</td>\n      <td>{'address1': '46 Bowery St', 'address2': '', '...</td>\n      <td>+12122338888</td>\n      <td>(212) 233-8888</td>\n      <td>1153.948239</td>\n      <td>40.715661</td>\n      <td>-73.996701</td>\n    </tr>\n    <tr>\n      <th>1</th>\n      <td>wfhMIiMh2A2psCGONOVSlg</td>\n      <td>han-dynasty-new-york</td>\n      <td>Han Dynasty</td>\n      <td>https://s3-media3.fl.yelpcdn.com/bphoto/G5jm9G...</td>\n      <td>False</td>\n      <td>https://www.yelp.com/biz/han-dynasty-new-york?...</td>\n      <td>1273</td>\n      <td>[{'alias': 'szechuan', 'title': 'Szechuan'}, {...</td>\n      <td>4.0</td>\n      <td>[pickup, delivery]</td>\n      <td>$$</td>\n      <td>{'address1': '90 3rd Ave', 'address2': '', 'ad...</td>\n      <td>+12123908685</td>\n      <td>(212) 390-8685</td>\n      <td>3006.833805</td>\n      <td>40.732072</td>\n      <td>-73.988074</td>\n    </tr>\n  </tbody>\n</table>\n</div>"
     },
     "execution_count": 94,
     "metadata": {},
     "output_type": "execute_result"
    }
   ],
   "source": [
    "yelp_df = df\n",
    "yelp_df.head(2)"
   ],
   "metadata": {
    "collapsed": false,
    "pycharm": {
     "name": "#%%\n"
    }
   }
  },
  {
   "cell_type": "code",
   "execution_count": 95,
   "outputs": [
    {
     "name": "stdout",
     "output_type": "stream",
     "text": [
      "<class 'pandas.core.frame.DataFrame'>\n",
      "RangeIndex: 50 entries, 0 to 49\n",
      "Data columns (total 17 columns):\n",
      " #   Column         Non-Null Count  Dtype  \n",
      "---  ------         --------------  -----  \n",
      " 0   id             50 non-null     object \n",
      " 1   alias          50 non-null     object \n",
      " 2   name           50 non-null     object \n",
      " 3   image_url      50 non-null     object \n",
      " 4   is_closed      50 non-null     bool   \n",
      " 5   url            50 non-null     object \n",
      " 6   review_count   50 non-null     int64  \n",
      " 7   categories     50 non-null     object \n",
      " 8   rating         50 non-null     float64\n",
      " 9   transactions   50 non-null     object \n",
      " 10  price          44 non-null     object \n",
      " 11  location       50 non-null     object \n",
      " 12  phone          50 non-null     object \n",
      " 13  display_phone  50 non-null     object \n",
      " 14  distance       50 non-null     float64\n",
      " 15  latitude       50 non-null     float64\n",
      " 16  longitude      50 non-null     float64\n",
      "dtypes: bool(1), float64(4), int64(1), object(11)\n",
      "memory usage: 6.4+ KB\n"
     ]
    }
   ],
   "source": [
    "# Dataset information\n",
    "yelp_df.info()"
   ],
   "metadata": {
    "collapsed": false,
    "pycharm": {
     "name": "#%%\n"
    }
   }
  },
  {
   "cell_type": "code",
   "execution_count": 96,
   "outputs": [
    {
     "data": {
      "text/plain": "50"
     },
     "execution_count": 96,
     "metadata": {},
     "output_type": "execute_result"
    }
   ],
   "source": [
    "# Dataset length:\n",
    "len(yelp_df)"
   ],
   "metadata": {
    "collapsed": false,
    "pycharm": {
     "name": "#%%\n"
    }
   }
  },
  {
   "cell_type": "markdown",
   "source": [
    "## Dataset Modification\n",
    "> Modify the Dataset to Find Restaurants Labeled *Chinese*, then plot the location of Chinese restaurants on the map."
   ],
   "metadata": {
    "collapsed": false,
    "pycharm": {
     "name": "#%% md\n"
    }
   }
  },
  {
   "cell_type": "code",
   "execution_count": 97,
   "outputs": [],
   "source": [
    "lat_mean = yelp_df.latitude.mean()\n",
    "lon_mean = yelp_df.longitude.mean()"
   ],
   "metadata": {
    "collapsed": false,
    "pycharm": {
     "name": "#%%\n"
    }
   }
  },
  {
   "cell_type": "code",
   "execution_count": 98,
   "outputs": [
    {
     "data": {
      "application/vnd.plotly.v1+json": {
       "config": {
        "linkText": "Export to plot.ly",
        "plotlyServerURL": "https://plot.ly",
        "showLink": false
       },
       "data": [
        {
         "lat": [
          40.7156608,
          40.732072,
          40.72915,
          40.7174109,
          40.75157,
          40.7293403,
          40.76292,
          40.72877,
          40.6911319610036,
          40.71441,
          40.71785,
          40.7334863190479,
          40.72925,
          40.714167,
          40.72911,
          40.7422762672197,
          40.718271,
          40.71442,
          40.71735,
          40.72939,
          40.731338,
          40.73297,
          40.7409694,
          40.7190148,
          40.73138,
          40.75809,
          40.71261,
          40.7259,
          40.72674,
          40.68807,
          40.7187,
          40.7137,
          40.681442,
          40.72713,
          40.74014,
          40.7134488,
          40.7406999,
          40.74304,
          40.7582902125633,
          40.76015,
          40.7201045,
          40.7142,
          40.74744,
          40.75935,
          40.71512,
          40.72412482724,
          40.72929,
          40.693868137768895,
          40.7140555,
          40.742827
         ],
         "lon": [
          -73.9967012,
          -73.988074,
          -74.00072,
          -73.9920876,
          -73.98584,
          -73.9866071,
          -73.976546,
          -73.98873,
          -73.9825977757573,
          -73.99902,
          -73.9968,
          -73.9998929006093,
          -73.9886,
          -73.998803,
          -73.98858,
          -74.0048000961542,
          -73.985209,
          -73.960441,
          -73.99457,
          -73.9889199,
          -73.990145,
          -73.98829,
          -73.9934031,
          -73.9968228,
          -74.00319,
          -73.98026,
          -73.96077,
          -73.98986,
          -73.98722,
          -73.98199,
          -73.99031,
          -73.99598,
          -73.977241,
          -73.98542,
          -73.99178,
          -73.9513445,
          -74.00436,
          -73.99619,
          -73.9925113993899,
          -73.9893699,
          -74.0087721,
          -73.99787,
          -73.97728,
          -73.99175,
          -73.95097,
          -73.9828906263924,
          -73.99882,
          -73.9634565145772,
          -73.9988387116394,
          -73.953575
         ],
         "mode": "markers",
         "text": [
          "Joe's Shanghai",
          "Han Dynasty",
          "Chow House",
          "Shu Jiao Fu Zhou Cuisine Restaurant",
          "Café China",
          "Uluh",
          "Blue Willow 夜来湘",
          "886",
          "Han Dynasty",
          "Shanghai 21",
          "Lady Chow's Kitchen",
          "Hao Noodle - West Village",
          "Cheli",
          "Noodle Village",
          "Szechuan Mountain House",
          "Buddakan",
          "3 Times",
          "Birds of a Feather",
          "Wah Fung No 1",
          "The Bao",
          "Tim Ho Wan",
          "Silky Kitchen",
          "Jue Lan Club",
          "Nyonya",
          "Clay Pot - West Village",
          "Mr. Sun",
          "Lazy Siu's",
          "Dim Sum Palace",
          "Spicy Moon East Village",
          "Bites of Xi'an",
          "Congee Village",
          "Hwa Yuan",
          "5ive Spice",
          "MáLà Project",
          "Baodega",
          "hanon",
          "Hao Noodle Chelsea",
          "Season Taste",
          "China Xiang 中国湘",
          "Dim Sum Palace",
          "Mr Chow",
          "Tasty Hand-Pulled Noodles",
          "Little Alley",
          "Tim Ho Wan - Hell's Kitchen",
          "Kings Co Imperial",
          "Tuome",
          "Tipsy Shanghai",
          "DunHuang Miss Noodles",
          "Wok Wok Southeast Asian Kitchen",
          "Hupo琥珀"
         ],
         "type": "scattermapbox"
        }
       ],
       "layout": {
        "autosize": true,
        "hovermode": "closest",
        "mapbox": {
         "accesstoken": "pk.eyJ1IjoicGF0cmlja2RkZCIsImEiOiJja3R5dGluOWEzNzE3MzFvMzR0MjRlZWVtIn0.ezHYtubmTTHs1z2n11c7yQ",
         "bearing": 0,
         "center": {
          "lat": 40.72684419249687,
          "lon": -73.9874844044904
         },
         "pitch": 0,
         "style": "light",
         "zoom": 10
        },
        "template": {
         "data": {
          "bar": [
           {
            "error_x": {
             "color": "#2a3f5f"
            },
            "error_y": {
             "color": "#2a3f5f"
            },
            "marker": {
             "line": {
              "color": "#E5ECF6",
              "width": 0.5
             },
             "pattern": {
              "fillmode": "overlay",
              "size": 10,
              "solidity": 0.2
             }
            },
            "type": "bar"
           }
          ],
          "barpolar": [
           {
            "marker": {
             "line": {
              "color": "#E5ECF6",
              "width": 0.5
             },
             "pattern": {
              "fillmode": "overlay",
              "size": 10,
              "solidity": 0.2
             }
            },
            "type": "barpolar"
           }
          ],
          "carpet": [
           {
            "aaxis": {
             "endlinecolor": "#2a3f5f",
             "gridcolor": "white",
             "linecolor": "white",
             "minorgridcolor": "white",
             "startlinecolor": "#2a3f5f"
            },
            "baxis": {
             "endlinecolor": "#2a3f5f",
             "gridcolor": "white",
             "linecolor": "white",
             "minorgridcolor": "white",
             "startlinecolor": "#2a3f5f"
            },
            "type": "carpet"
           }
          ],
          "choropleth": [
           {
            "colorbar": {
             "outlinewidth": 0,
             "ticks": ""
            },
            "type": "choropleth"
           }
          ],
          "contour": [
           {
            "colorbar": {
             "outlinewidth": 0,
             "ticks": ""
            },
            "colorscale": [
             [
              0.0,
              "#0d0887"
             ],
             [
              0.1111111111111111,
              "#46039f"
             ],
             [
              0.2222222222222222,
              "#7201a8"
             ],
             [
              0.3333333333333333,
              "#9c179e"
             ],
             [
              0.4444444444444444,
              "#bd3786"
             ],
             [
              0.5555555555555556,
              "#d8576b"
             ],
             [
              0.6666666666666666,
              "#ed7953"
             ],
             [
              0.7777777777777778,
              "#fb9f3a"
             ],
             [
              0.8888888888888888,
              "#fdca26"
             ],
             [
              1.0,
              "#f0f921"
             ]
            ],
            "type": "contour"
           }
          ],
          "contourcarpet": [
           {
            "colorbar": {
             "outlinewidth": 0,
             "ticks": ""
            },
            "type": "contourcarpet"
           }
          ],
          "heatmap": [
           {
            "colorbar": {
             "outlinewidth": 0,
             "ticks": ""
            },
            "colorscale": [
             [
              0.0,
              "#0d0887"
             ],
             [
              0.1111111111111111,
              "#46039f"
             ],
             [
              0.2222222222222222,
              "#7201a8"
             ],
             [
              0.3333333333333333,
              "#9c179e"
             ],
             [
              0.4444444444444444,
              "#bd3786"
             ],
             [
              0.5555555555555556,
              "#d8576b"
             ],
             [
              0.6666666666666666,
              "#ed7953"
             ],
             [
              0.7777777777777778,
              "#fb9f3a"
             ],
             [
              0.8888888888888888,
              "#fdca26"
             ],
             [
              1.0,
              "#f0f921"
             ]
            ],
            "type": "heatmap"
           }
          ],
          "heatmapgl": [
           {
            "colorbar": {
             "outlinewidth": 0,
             "ticks": ""
            },
            "colorscale": [
             [
              0.0,
              "#0d0887"
             ],
             [
              0.1111111111111111,
              "#46039f"
             ],
             [
              0.2222222222222222,
              "#7201a8"
             ],
             [
              0.3333333333333333,
              "#9c179e"
             ],
             [
              0.4444444444444444,
              "#bd3786"
             ],
             [
              0.5555555555555556,
              "#d8576b"
             ],
             [
              0.6666666666666666,
              "#ed7953"
             ],
             [
              0.7777777777777778,
              "#fb9f3a"
             ],
             [
              0.8888888888888888,
              "#fdca26"
             ],
             [
              1.0,
              "#f0f921"
             ]
            ],
            "type": "heatmapgl"
           }
          ],
          "histogram": [
           {
            "marker": {
             "pattern": {
              "fillmode": "overlay",
              "size": 10,
              "solidity": 0.2
             }
            },
            "type": "histogram"
           }
          ],
          "histogram2d": [
           {
            "colorbar": {
             "outlinewidth": 0,
             "ticks": ""
            },
            "colorscale": [
             [
              0.0,
              "#0d0887"
             ],
             [
              0.1111111111111111,
              "#46039f"
             ],
             [
              0.2222222222222222,
              "#7201a8"
             ],
             [
              0.3333333333333333,
              "#9c179e"
             ],
             [
              0.4444444444444444,
              "#bd3786"
             ],
             [
              0.5555555555555556,
              "#d8576b"
             ],
             [
              0.6666666666666666,
              "#ed7953"
             ],
             [
              0.7777777777777778,
              "#fb9f3a"
             ],
             [
              0.8888888888888888,
              "#fdca26"
             ],
             [
              1.0,
              "#f0f921"
             ]
            ],
            "type": "histogram2d"
           }
          ],
          "histogram2dcontour": [
           {
            "colorbar": {
             "outlinewidth": 0,
             "ticks": ""
            },
            "colorscale": [
             [
              0.0,
              "#0d0887"
             ],
             [
              0.1111111111111111,
              "#46039f"
             ],
             [
              0.2222222222222222,
              "#7201a8"
             ],
             [
              0.3333333333333333,
              "#9c179e"
             ],
             [
              0.4444444444444444,
              "#bd3786"
             ],
             [
              0.5555555555555556,
              "#d8576b"
             ],
             [
              0.6666666666666666,
              "#ed7953"
             ],
             [
              0.7777777777777778,
              "#fb9f3a"
             ],
             [
              0.8888888888888888,
              "#fdca26"
             ],
             [
              1.0,
              "#f0f921"
             ]
            ],
            "type": "histogram2dcontour"
           }
          ],
          "mesh3d": [
           {
            "colorbar": {
             "outlinewidth": 0,
             "ticks": ""
            },
            "type": "mesh3d"
           }
          ],
          "parcoords": [
           {
            "line": {
             "colorbar": {
              "outlinewidth": 0,
              "ticks": ""
             }
            },
            "type": "parcoords"
           }
          ],
          "pie": [
           {
            "automargin": true,
            "type": "pie"
           }
          ],
          "scatter": [
           {
            "marker": {
             "colorbar": {
              "outlinewidth": 0,
              "ticks": ""
             }
            },
            "type": "scatter"
           }
          ],
          "scatter3d": [
           {
            "line": {
             "colorbar": {
              "outlinewidth": 0,
              "ticks": ""
             }
            },
            "marker": {
             "colorbar": {
              "outlinewidth": 0,
              "ticks": ""
             }
            },
            "type": "scatter3d"
           }
          ],
          "scattercarpet": [
           {
            "marker": {
             "colorbar": {
              "outlinewidth": 0,
              "ticks": ""
             }
            },
            "type": "scattercarpet"
           }
          ],
          "scattergeo": [
           {
            "marker": {
             "colorbar": {
              "outlinewidth": 0,
              "ticks": ""
             }
            },
            "type": "scattergeo"
           }
          ],
          "scattergl": [
           {
            "marker": {
             "colorbar": {
              "outlinewidth": 0,
              "ticks": ""
             }
            },
            "type": "scattergl"
           }
          ],
          "scattermapbox": [
           {
            "marker": {
             "colorbar": {
              "outlinewidth": 0,
              "ticks": ""
             }
            },
            "type": "scattermapbox"
           }
          ],
          "scatterpolar": [
           {
            "marker": {
             "colorbar": {
              "outlinewidth": 0,
              "ticks": ""
             }
            },
            "type": "scatterpolar"
           }
          ],
          "scatterpolargl": [
           {
            "marker": {
             "colorbar": {
              "outlinewidth": 0,
              "ticks": ""
             }
            },
            "type": "scatterpolargl"
           }
          ],
          "scatterternary": [
           {
            "marker": {
             "colorbar": {
              "outlinewidth": 0,
              "ticks": ""
             }
            },
            "type": "scatterternary"
           }
          ],
          "surface": [
           {
            "colorbar": {
             "outlinewidth": 0,
             "ticks": ""
            },
            "colorscale": [
             [
              0.0,
              "#0d0887"
             ],
             [
              0.1111111111111111,
              "#46039f"
             ],
             [
              0.2222222222222222,
              "#7201a8"
             ],
             [
              0.3333333333333333,
              "#9c179e"
             ],
             [
              0.4444444444444444,
              "#bd3786"
             ],
             [
              0.5555555555555556,
              "#d8576b"
             ],
             [
              0.6666666666666666,
              "#ed7953"
             ],
             [
              0.7777777777777778,
              "#fb9f3a"
             ],
             [
              0.8888888888888888,
              "#fdca26"
             ],
             [
              1.0,
              "#f0f921"
             ]
            ],
            "type": "surface"
           }
          ],
          "table": [
           {
            "cells": {
             "fill": {
              "color": "#EBF0F8"
             },
             "line": {
              "color": "white"
             }
            },
            "header": {
             "fill": {
              "color": "#C8D4E3"
             },
             "line": {
              "color": "white"
             }
            },
            "type": "table"
           }
          ]
         },
         "layout": {
          "annotationdefaults": {
           "arrowcolor": "#2a3f5f",
           "arrowhead": 0,
           "arrowwidth": 1
          },
          "autotypenumbers": "strict",
          "coloraxis": {
           "colorbar": {
            "outlinewidth": 0,
            "ticks": ""
           }
          },
          "colorscale": {
           "diverging": [
            [
             0,
             "#8e0152"
            ],
            [
             0.1,
             "#c51b7d"
            ],
            [
             0.2,
             "#de77ae"
            ],
            [
             0.3,
             "#f1b6da"
            ],
            [
             0.4,
             "#fde0ef"
            ],
            [
             0.5,
             "#f7f7f7"
            ],
            [
             0.6,
             "#e6f5d0"
            ],
            [
             0.7,
             "#b8e186"
            ],
            [
             0.8,
             "#7fbc41"
            ],
            [
             0.9,
             "#4d9221"
            ],
            [
             1,
             "#276419"
            ]
           ],
           "sequential": [
            [
             0.0,
             "#0d0887"
            ],
            [
             0.1111111111111111,
             "#46039f"
            ],
            [
             0.2222222222222222,
             "#7201a8"
            ],
            [
             0.3333333333333333,
             "#9c179e"
            ],
            [
             0.4444444444444444,
             "#bd3786"
            ],
            [
             0.5555555555555556,
             "#d8576b"
            ],
            [
             0.6666666666666666,
             "#ed7953"
            ],
            [
             0.7777777777777778,
             "#fb9f3a"
            ],
            [
             0.8888888888888888,
             "#fdca26"
            ],
            [
             1.0,
             "#f0f921"
            ]
           ],
           "sequentialminus": [
            [
             0.0,
             "#0d0887"
            ],
            [
             0.1111111111111111,
             "#46039f"
            ],
            [
             0.2222222222222222,
             "#7201a8"
            ],
            [
             0.3333333333333333,
             "#9c179e"
            ],
            [
             0.4444444444444444,
             "#bd3786"
            ],
            [
             0.5555555555555556,
             "#d8576b"
            ],
            [
             0.6666666666666666,
             "#ed7953"
            ],
            [
             0.7777777777777778,
             "#fb9f3a"
            ],
            [
             0.8888888888888888,
             "#fdca26"
            ],
            [
             1.0,
             "#f0f921"
            ]
           ]
          },
          "colorway": [
           "#636efa",
           "#EF553B",
           "#00cc96",
           "#ab63fa",
           "#FFA15A",
           "#19d3f3",
           "#FF6692",
           "#B6E880",
           "#FF97FF",
           "#FECB52"
          ],
          "font": {
           "color": "#2a3f5f"
          },
          "geo": {
           "bgcolor": "white",
           "lakecolor": "white",
           "landcolor": "#E5ECF6",
           "showlakes": true,
           "showland": true,
           "subunitcolor": "white"
          },
          "hoverlabel": {
           "align": "left"
          },
          "hovermode": "closest",
          "mapbox": {
           "style": "light"
          },
          "paper_bgcolor": "white",
          "plot_bgcolor": "#E5ECF6",
          "polar": {
           "angularaxis": {
            "gridcolor": "white",
            "linecolor": "white",
            "ticks": ""
           },
           "bgcolor": "#E5ECF6",
           "radialaxis": {
            "gridcolor": "white",
            "linecolor": "white",
            "ticks": ""
           }
          },
          "scene": {
           "xaxis": {
            "backgroundcolor": "#E5ECF6",
            "gridcolor": "white",
            "gridwidth": 2,
            "linecolor": "white",
            "showbackground": true,
            "ticks": "",
            "zerolinecolor": "white"
           },
           "yaxis": {
            "backgroundcolor": "#E5ECF6",
            "gridcolor": "white",
            "gridwidth": 2,
            "linecolor": "white",
            "showbackground": true,
            "ticks": "",
            "zerolinecolor": "white"
           },
           "zaxis": {
            "backgroundcolor": "#E5ECF6",
            "gridcolor": "white",
            "gridwidth": 2,
            "linecolor": "white",
            "showbackground": true,
            "ticks": "",
            "zerolinecolor": "white"
           }
          },
          "shapedefaults": {
           "line": {
            "color": "#2a3f5f"
           }
          },
          "ternary": {
           "aaxis": {
            "gridcolor": "white",
            "linecolor": "white",
            "ticks": ""
           },
           "baxis": {
            "gridcolor": "white",
            "linecolor": "white",
            "ticks": ""
           },
           "bgcolor": "#E5ECF6",
           "caxis": {
            "gridcolor": "white",
            "linecolor": "white",
            "ticks": ""
           }
          },
          "title": {
           "x": 0.05
          },
          "xaxis": {
           "automargin": true,
           "gridcolor": "white",
           "linecolor": "white",
           "ticks": "",
           "title": {
            "standoff": 15
           },
           "zerolinecolor": "white",
           "zerolinewidth": 2
          },
          "yaxis": {
           "automargin": true,
           "gridcolor": "white",
           "linecolor": "white",
           "ticks": "",
           "title": {
            "standoff": 15
           },
           "zerolinecolor": "white",
           "zerolinewidth": 2
          }
         }
        },
        "title": {
         "text": "Chinese Restaurants on Yelp"
        }
       }
      },
      "text/html": "<div>                            <div id=\"560aa430-6c5a-4ccb-bf02-2d69db01f284\" class=\"plotly-graph-div\" style=\"height:525px; width:100%;\"></div>            <script type=\"text/javascript\">                require([\"plotly\"], function(Plotly) {                    window.PLOTLYENV=window.PLOTLYENV || {};                                    if (document.getElementById(\"560aa430-6c5a-4ccb-bf02-2d69db01f284\")) {                    Plotly.newPlot(                        \"560aa430-6c5a-4ccb-bf02-2d69db01f284\",                        [{\"lat\":[40.7156608,40.732072,40.72915,40.7174109,40.75157,40.7293403,40.76292,40.72877,40.6911319610036,40.71441,40.71785,40.7334863190479,40.72925,40.714167,40.72911,40.7422762672197,40.718271,40.71442,40.71735,40.72939,40.731338,40.73297,40.7409694,40.7190148,40.73138,40.75809,40.71261,40.7259,40.72674,40.68807,40.7187,40.7137,40.681442,40.72713,40.74014,40.7134488,40.7406999,40.74304,40.7582902125633,40.76015,40.7201045,40.7142,40.74744,40.75935,40.71512,40.72412482724,40.72929,40.693868137768895,40.7140555,40.742827],\"lon\":[-73.9967012,-73.988074,-74.00072,-73.9920876,-73.98584,-73.9866071,-73.976546,-73.98873,-73.9825977757573,-73.99902,-73.9968,-73.9998929006093,-73.9886,-73.998803,-73.98858,-74.0048000961542,-73.985209,-73.960441,-73.99457,-73.9889199,-73.990145,-73.98829,-73.9934031,-73.9968228,-74.00319,-73.98026,-73.96077,-73.98986,-73.98722,-73.98199,-73.99031,-73.99598,-73.977241,-73.98542,-73.99178,-73.9513445,-74.00436,-73.99619,-73.9925113993899,-73.9893699,-74.0087721,-73.99787,-73.97728,-73.99175,-73.95097,-73.9828906263924,-73.99882,-73.9634565145772,-73.9988387116394,-73.953575],\"mode\":\"markers\",\"text\":[\"Joe's Shanghai\",\"Han Dynasty\",\"Chow House\",\"Shu Jiao Fu Zhou Cuisine Restaurant\",\"Caf\\u00e9 China\",\"Uluh\",\"Blue Willow \\u591c\\u6765\\u6e58\",\"886\",\"Han Dynasty\",\"Shanghai 21\",\"Lady Chow's Kitchen\",\"Hao Noodle - West Village\",\"Cheli\",\"Noodle Village\",\"Szechuan Mountain House\",\"Buddakan\",\"3 Times\",\"Birds of a Feather\",\"Wah Fung No 1\",\"The Bao\",\"Tim Ho Wan\",\"Silky Kitchen\",\"Jue Lan Club\",\"Nyonya\",\"Clay Pot - West Village\",\"Mr. Sun\",\"Lazy Siu's\",\"Dim Sum Palace\",\"Spicy Moon East Village\",\"Bites of Xi'an\",\"Congee Village\",\"Hwa Yuan\",\"5ive Spice\",\"M\\u00e1L\\u00e0 Project\",\"Baodega\",\"hanon\",\"Hao Noodle Chelsea\",\"Season Taste\",\"China Xiang \\u4e2d\\u56fd\\u6e58\",\"Dim Sum Palace\",\"Mr Chow\",\"Tasty Hand-Pulled Noodles\",\"Little Alley\",\"Tim Ho Wan - Hell's Kitchen\",\"Kings Co Imperial\",\"Tuome\",\"Tipsy Shanghai\",\"DunHuang Miss Noodles\",\"Wok Wok Southeast Asian Kitchen\",\"Hupo\\u7425\\u73c0\"],\"type\":\"scattermapbox\"}],                        {\"autosize\":true,\"hovermode\":\"closest\",\"mapbox\":{\"accesstoken\":\"pk.eyJ1IjoicGF0cmlja2RkZCIsImEiOiJja3R5dGluOWEzNzE3MzFvMzR0MjRlZWVtIn0.ezHYtubmTTHs1z2n11c7yQ\",\"bearing\":0,\"center\":{\"lat\":40.72684419249687,\"lon\":-73.9874844044904},\"pitch\":0,\"style\":\"light\",\"zoom\":10},\"template\":{\"data\":{\"bar\":[{\"error_x\":{\"color\":\"#2a3f5f\"},\"error_y\":{\"color\":\"#2a3f5f\"},\"marker\":{\"line\":{\"color\":\"#E5ECF6\",\"width\":0.5},\"pattern\":{\"fillmode\":\"overlay\",\"size\":10,\"solidity\":0.2}},\"type\":\"bar\"}],\"barpolar\":[{\"marker\":{\"line\":{\"color\":\"#E5ECF6\",\"width\":0.5},\"pattern\":{\"fillmode\":\"overlay\",\"size\":10,\"solidity\":0.2}},\"type\":\"barpolar\"}],\"carpet\":[{\"aaxis\":{\"endlinecolor\":\"#2a3f5f\",\"gridcolor\":\"white\",\"linecolor\":\"white\",\"minorgridcolor\":\"white\",\"startlinecolor\":\"#2a3f5f\"},\"baxis\":{\"endlinecolor\":\"#2a3f5f\",\"gridcolor\":\"white\",\"linecolor\":\"white\",\"minorgridcolor\":\"white\",\"startlinecolor\":\"#2a3f5f\"},\"type\":\"carpet\"}],\"choropleth\":[{\"colorbar\":{\"outlinewidth\":0,\"ticks\":\"\"},\"type\":\"choropleth\"}],\"contour\":[{\"colorbar\":{\"outlinewidth\":0,\"ticks\":\"\"},\"colorscale\":[[0.0,\"#0d0887\"],[0.1111111111111111,\"#46039f\"],[0.2222222222222222,\"#7201a8\"],[0.3333333333333333,\"#9c179e\"],[0.4444444444444444,\"#bd3786\"],[0.5555555555555556,\"#d8576b\"],[0.6666666666666666,\"#ed7953\"],[0.7777777777777778,\"#fb9f3a\"],[0.8888888888888888,\"#fdca26\"],[1.0,\"#f0f921\"]],\"type\":\"contour\"}],\"contourcarpet\":[{\"colorbar\":{\"outlinewidth\":0,\"ticks\":\"\"},\"type\":\"contourcarpet\"}],\"heatmap\":[{\"colorbar\":{\"outlinewidth\":0,\"ticks\":\"\"},\"colorscale\":[[0.0,\"#0d0887\"],[0.1111111111111111,\"#46039f\"],[0.2222222222222222,\"#7201a8\"],[0.3333333333333333,\"#9c179e\"],[0.4444444444444444,\"#bd3786\"],[0.5555555555555556,\"#d8576b\"],[0.6666666666666666,\"#ed7953\"],[0.7777777777777778,\"#fb9f3a\"],[0.8888888888888888,\"#fdca26\"],[1.0,\"#f0f921\"]],\"type\":\"heatmap\"}],\"heatmapgl\":[{\"colorbar\":{\"outlinewidth\":0,\"ticks\":\"\"},\"colorscale\":[[0.0,\"#0d0887\"],[0.1111111111111111,\"#46039f\"],[0.2222222222222222,\"#7201a8\"],[0.3333333333333333,\"#9c179e\"],[0.4444444444444444,\"#bd3786\"],[0.5555555555555556,\"#d8576b\"],[0.6666666666666666,\"#ed7953\"],[0.7777777777777778,\"#fb9f3a\"],[0.8888888888888888,\"#fdca26\"],[1.0,\"#f0f921\"]],\"type\":\"heatmapgl\"}],\"histogram\":[{\"marker\":{\"pattern\":{\"fillmode\":\"overlay\",\"size\":10,\"solidity\":0.2}},\"type\":\"histogram\"}],\"histogram2d\":[{\"colorbar\":{\"outlinewidth\":0,\"ticks\":\"\"},\"colorscale\":[[0.0,\"#0d0887\"],[0.1111111111111111,\"#46039f\"],[0.2222222222222222,\"#7201a8\"],[0.3333333333333333,\"#9c179e\"],[0.4444444444444444,\"#bd3786\"],[0.5555555555555556,\"#d8576b\"],[0.6666666666666666,\"#ed7953\"],[0.7777777777777778,\"#fb9f3a\"],[0.8888888888888888,\"#fdca26\"],[1.0,\"#f0f921\"]],\"type\":\"histogram2d\"}],\"histogram2dcontour\":[{\"colorbar\":{\"outlinewidth\":0,\"ticks\":\"\"},\"colorscale\":[[0.0,\"#0d0887\"],[0.1111111111111111,\"#46039f\"],[0.2222222222222222,\"#7201a8\"],[0.3333333333333333,\"#9c179e\"],[0.4444444444444444,\"#bd3786\"],[0.5555555555555556,\"#d8576b\"],[0.6666666666666666,\"#ed7953\"],[0.7777777777777778,\"#fb9f3a\"],[0.8888888888888888,\"#fdca26\"],[1.0,\"#f0f921\"]],\"type\":\"histogram2dcontour\"}],\"mesh3d\":[{\"colorbar\":{\"outlinewidth\":0,\"ticks\":\"\"},\"type\":\"mesh3d\"}],\"parcoords\":[{\"line\":{\"colorbar\":{\"outlinewidth\":0,\"ticks\":\"\"}},\"type\":\"parcoords\"}],\"pie\":[{\"automargin\":true,\"type\":\"pie\"}],\"scatter\":[{\"marker\":{\"colorbar\":{\"outlinewidth\":0,\"ticks\":\"\"}},\"type\":\"scatter\"}],\"scatter3d\":[{\"line\":{\"colorbar\":{\"outlinewidth\":0,\"ticks\":\"\"}},\"marker\":{\"colorbar\":{\"outlinewidth\":0,\"ticks\":\"\"}},\"type\":\"scatter3d\"}],\"scattercarpet\":[{\"marker\":{\"colorbar\":{\"outlinewidth\":0,\"ticks\":\"\"}},\"type\":\"scattercarpet\"}],\"scattergeo\":[{\"marker\":{\"colorbar\":{\"outlinewidth\":0,\"ticks\":\"\"}},\"type\":\"scattergeo\"}],\"scattergl\":[{\"marker\":{\"colorbar\":{\"outlinewidth\":0,\"ticks\":\"\"}},\"type\":\"scattergl\"}],\"scattermapbox\":[{\"marker\":{\"colorbar\":{\"outlinewidth\":0,\"ticks\":\"\"}},\"type\":\"scattermapbox\"}],\"scatterpolar\":[{\"marker\":{\"colorbar\":{\"outlinewidth\":0,\"ticks\":\"\"}},\"type\":\"scatterpolar\"}],\"scatterpolargl\":[{\"marker\":{\"colorbar\":{\"outlinewidth\":0,\"ticks\":\"\"}},\"type\":\"scatterpolargl\"}],\"scatterternary\":[{\"marker\":{\"colorbar\":{\"outlinewidth\":0,\"ticks\":\"\"}},\"type\":\"scatterternary\"}],\"surface\":[{\"colorbar\":{\"outlinewidth\":0,\"ticks\":\"\"},\"colorscale\":[[0.0,\"#0d0887\"],[0.1111111111111111,\"#46039f\"],[0.2222222222222222,\"#7201a8\"],[0.3333333333333333,\"#9c179e\"],[0.4444444444444444,\"#bd3786\"],[0.5555555555555556,\"#d8576b\"],[0.6666666666666666,\"#ed7953\"],[0.7777777777777778,\"#fb9f3a\"],[0.8888888888888888,\"#fdca26\"],[1.0,\"#f0f921\"]],\"type\":\"surface\"}],\"table\":[{\"cells\":{\"fill\":{\"color\":\"#EBF0F8\"},\"line\":{\"color\":\"white\"}},\"header\":{\"fill\":{\"color\":\"#C8D4E3\"},\"line\":{\"color\":\"white\"}},\"type\":\"table\"}]},\"layout\":{\"annotationdefaults\":{\"arrowcolor\":\"#2a3f5f\",\"arrowhead\":0,\"arrowwidth\":1},\"autotypenumbers\":\"strict\",\"coloraxis\":{\"colorbar\":{\"outlinewidth\":0,\"ticks\":\"\"}},\"colorscale\":{\"diverging\":[[0,\"#8e0152\"],[0.1,\"#c51b7d\"],[0.2,\"#de77ae\"],[0.3,\"#f1b6da\"],[0.4,\"#fde0ef\"],[0.5,\"#f7f7f7\"],[0.6,\"#e6f5d0\"],[0.7,\"#b8e186\"],[0.8,\"#7fbc41\"],[0.9,\"#4d9221\"],[1,\"#276419\"]],\"sequential\":[[0.0,\"#0d0887\"],[0.1111111111111111,\"#46039f\"],[0.2222222222222222,\"#7201a8\"],[0.3333333333333333,\"#9c179e\"],[0.4444444444444444,\"#bd3786\"],[0.5555555555555556,\"#d8576b\"],[0.6666666666666666,\"#ed7953\"],[0.7777777777777778,\"#fb9f3a\"],[0.8888888888888888,\"#fdca26\"],[1.0,\"#f0f921\"]],\"sequentialminus\":[[0.0,\"#0d0887\"],[0.1111111111111111,\"#46039f\"],[0.2222222222222222,\"#7201a8\"],[0.3333333333333333,\"#9c179e\"],[0.4444444444444444,\"#bd3786\"],[0.5555555555555556,\"#d8576b\"],[0.6666666666666666,\"#ed7953\"],[0.7777777777777778,\"#fb9f3a\"],[0.8888888888888888,\"#fdca26\"],[1.0,\"#f0f921\"]]},\"colorway\":[\"#636efa\",\"#EF553B\",\"#00cc96\",\"#ab63fa\",\"#FFA15A\",\"#19d3f3\",\"#FF6692\",\"#B6E880\",\"#FF97FF\",\"#FECB52\"],\"font\":{\"color\":\"#2a3f5f\"},\"geo\":{\"bgcolor\":\"white\",\"lakecolor\":\"white\",\"landcolor\":\"#E5ECF6\",\"showlakes\":true,\"showland\":true,\"subunitcolor\":\"white\"},\"hoverlabel\":{\"align\":\"left\"},\"hovermode\":\"closest\",\"mapbox\":{\"style\":\"light\"},\"paper_bgcolor\":\"white\",\"plot_bgcolor\":\"#E5ECF6\",\"polar\":{\"angularaxis\":{\"gridcolor\":\"white\",\"linecolor\":\"white\",\"ticks\":\"\"},\"bgcolor\":\"#E5ECF6\",\"radialaxis\":{\"gridcolor\":\"white\",\"linecolor\":\"white\",\"ticks\":\"\"}},\"scene\":{\"xaxis\":{\"backgroundcolor\":\"#E5ECF6\",\"gridcolor\":\"white\",\"gridwidth\":2,\"linecolor\":\"white\",\"showbackground\":true,\"ticks\":\"\",\"zerolinecolor\":\"white\"},\"yaxis\":{\"backgroundcolor\":\"#E5ECF6\",\"gridcolor\":\"white\",\"gridwidth\":2,\"linecolor\":\"white\",\"showbackground\":true,\"ticks\":\"\",\"zerolinecolor\":\"white\"},\"zaxis\":{\"backgroundcolor\":\"#E5ECF6\",\"gridcolor\":\"white\",\"gridwidth\":2,\"linecolor\":\"white\",\"showbackground\":true,\"ticks\":\"\",\"zerolinecolor\":\"white\"}},\"shapedefaults\":{\"line\":{\"color\":\"#2a3f5f\"}},\"ternary\":{\"aaxis\":{\"gridcolor\":\"white\",\"linecolor\":\"white\",\"ticks\":\"\"},\"baxis\":{\"gridcolor\":\"white\",\"linecolor\":\"white\",\"ticks\":\"\"},\"bgcolor\":\"#E5ECF6\",\"caxis\":{\"gridcolor\":\"white\",\"linecolor\":\"white\",\"ticks\":\"\"}},\"title\":{\"x\":0.05},\"xaxis\":{\"automargin\":true,\"gridcolor\":\"white\",\"linecolor\":\"white\",\"ticks\":\"\",\"title\":{\"standoff\":15},\"zerolinecolor\":\"white\",\"zerolinewidth\":2},\"yaxis\":{\"automargin\":true,\"gridcolor\":\"white\",\"linecolor\":\"white\",\"ticks\":\"\",\"title\":{\"standoff\":15},\"zerolinecolor\":\"white\",\"zerolinewidth\":2}}},\"title\":{\"text\":\"Chinese Restaurants on Yelp\"}},                        {\"responsive\": true}                    ).then(function(){\n                            \nvar gd = document.getElementById('560aa430-6c5a-4ccb-bf02-2d69db01f284');\nvar x = new MutationObserver(function (mutations, observer) {{\n        var display = window.getComputedStyle(gd).display;\n        if (!display || display === 'none') {{\n            console.log([gd, 'removed!']);\n            Plotly.purge(gd);\n            observer.disconnect();\n        }}\n}});\n\n// Listen for the removal of the full notebook cells\nvar notebookContainer = gd.closest('#notebook-container');\nif (notebookContainer) {{\n    x.observe(notebookContainer, {childList: true});\n}}\n\n// Listen for the clearing of the current output cell\nvar outputEl = gd.closest('.output');\nif (outputEl) {{\n    x.observe(outputEl, {childList: true});\n}}\n\n                        })                };                });            </script>        </div>"
     },
     "metadata": {},
     "output_type": "display_data"
    }
   ],
   "source": [
    "# import plotly for plotting interactive map\n",
    "hov_label = yelp_df['name']\n",
    "\n",
    "# use mapbox token\n",
    "tkn = 'pk.eyJ1IjoicGF0cmlja2RkZCIsImEiOiJja3R5dGluOWEzNzE3MzFvMzR0MjRlZWVtIn0.ezHYtubmTTHs1z2n11c7yQ'\n",
    "\n",
    "data = Data([Scattermapbox(lat=yelp_df.latitude.tolist(),\n",
    "                           lon=yelp_df.longitude.tolist(),\n",
    "                                       mode='markers',\n",
    "                                       text=hov_label)])\n",
    "layout = Layout(title='Chinese Restaurants on Yelp',\n",
    "                autosize=True,\n",
    "                hovermode='closest',\n",
    "                mapbox=dict(accesstoken=tkn,\n",
    "                            bearing=0,\n",
    "                            center=dict(lat=lat_mean, lon=lon_mean),\n",
    "                            style='light',\n",
    "                            pitch=0,\n",
    "                            zoom=10))\n",
    "\n",
    "fig=dict(data=data, layout=layout)\n",
    "plotly.offline.iplot(fig, filename='mapbox')"
   ],
   "metadata": {
    "collapsed": false,
    "pycharm": {
     "name": "#%%\n"
    }
   }
  },
  {
   "cell_type": "code",
   "execution_count": 98,
   "outputs": [],
   "source": [],
   "metadata": {
    "collapsed": false,
    "pycharm": {
     "name": "#%%\n"
    }
   }
  }
 ],
 "metadata": {
  "kernelspec": {
   "display_name": "Python 3",
   "language": "python",
   "name": "python3"
  },
  "language_info": {
   "codemirror_mode": {
    "name": "ipython",
    "version": 2
   },
   "file_extension": ".py",
   "mimetype": "text/x-python",
   "name": "python",
   "nbconvert_exporter": "python",
   "pygments_lexer": "ipython2",
   "version": "2.7.6"
  }
 },
 "nbformat": 4,
 "nbformat_minor": 0
}