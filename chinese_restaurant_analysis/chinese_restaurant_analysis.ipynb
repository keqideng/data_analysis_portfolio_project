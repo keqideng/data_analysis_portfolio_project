{
 "cells": [
  {
   "cell_type": "markdown",
   "source": [
    "[Back](https://keqideng.github.io/data_analysis_portfolio_project/)\n",
    "# Chinese Eateries Analysis\n",
    "Date: Sept 27, 2021\n",
    "Prepared by ***Keqi Deng***\n",
    "\n",
    ">This dataset is made available by [Yelp Fusion AIP](https://www.yelp.com/developers), the usage of the dataset is subject to the terms and conditions of Yelp."
   ],
   "metadata": {
    "collapsed": false,
    "pycharm": {
     "name": "#%% md\n"
    }
   }
  },
  {
   "cell_type": "code",
   "execution_count": 191,
   "metadata": {
    "collapsed": true
   },
   "outputs": [
    {
     "data": {
      "text/html": "        <script type=\"text/javascript\">\n        window.PlotlyConfig = {MathJaxConfig: 'local'};\n        if (window.MathJax) {MathJax.Hub.Config({SVG: {font: \"STIX-Web\"}});}\n        if (typeof require !== 'undefined') {\n        require.undef(\"plotly\");\n        requirejs.config({\n            paths: {\n                'plotly': ['https://cdn.plot.ly/plotly-2.4.2.min']\n            }\n        });\n        require(['plotly'], function(Plotly) {\n            window._Plotly = Plotly;\n        });\n        }\n        </script>\n        "
     },
     "metadata": {},
     "output_type": "display_data"
    }
   ],
   "source": [
    "import gc # garbage collector\n",
    "import numpy as np # linear algebra\n",
    "from collections import Counter # for counting commong words\n",
    "import requests\n",
    "# request data from yelp\n",
    "import pandas as pd # data processing, CSV file I/O (e.g. pd.read_csv)\n",
    "import matplotlib.pyplot as plt # visualization\n",
    "plt.style.use('fivethirtyeight') # use ggplot ploting style\n",
    "import seaborn as sns # visualization\n",
    "from wordcloud import WordCloud, STOPWORDS # this module is for making wordcloud in python\n",
    "import re # regular expression\n",
    "import string # for finding punctuation in text\n",
    "import nltk # preprocessing text\n",
    "from textblob import TextBlob\n",
    "# import ploty for visualization\n",
    "import plotly\n",
    "import plotly.offline as py # make offline\n",
    "py.init_notebook_mode(connected=True)\n",
    "import plotly.tools as tls\n",
    "import plotly.graph_objs as go\n",
    "from plotly.graph_objs import *\n",
    "import plotly.tools as tls\n",
    "import plotly.figure_factory as fig_fact\n",
    "# remove warnings\n",
    "import warnings\n",
    "warnings.filterwarnings('ignore')\n",
    "# this will allow ploting inside the notebook\n",
    "%matplotlib inline"
   ]
  },
  {
   "cell_type": "markdown",
   "source": [
    "## Data Source\n",
    "Firstly use Yelp Fusion API to pull data from Yelp for further analysis.\n",
    "\n",
    "The selecting criteria is the Chinese restaurants in New York City."
   ],
   "metadata": {
    "collapsed": false,
    "pycharm": {
     "name": "#%% md\n"
    }
   }
  },
  {
   "cell_type": "code",
   "execution_count": 192,
   "outputs": [],
   "source": [
    "def yelp_business_search(offset=0, location = 'NYC', lim = 50, term = 50, endpoint = 'https://api.yelp.com/v3/businesses/search'):\n",
    "    #Business Search Yelp 'https://api.yelp.com/v3/businesses/search'\n",
    "    client_id = 'By4LztDH6ULQMoOWW73Uag'\n",
    "    #This is a private api key, please get your own api key by access yelp fusion api website.\n",
    "    api_key = 'hC90EyLZwRlSqQGxIzbg_t8CAfz0aFyIovi270VIjCqEGHBx8xXyPGW4HUQoIh2ELaArE7Lw3zIM9aLkJQkuREJs5S4G1HtBx43eFCpvnP8IebL-uZk2CBKfFqxQYXYx'\n",
    "\n",
    "    headers = {'Authorization': 'bearer %s'%api_key}\n",
    "\n",
    "    #Define the parameters\n",
    "    params = {'term': term,\n",
    "              'limit':lim,\n",
    "              'offset': offset,\n",
    "              'location':location,\n",
    "              'radius':40000}\n",
    "\n",
    "    #Make a request to the yelp api\n",
    "    response = requests.get(url=endpoint, params=params, headers=headers)\n",
    "\n",
    "    #Convert json string to dictionary\n",
    "    business_data = response.json()\n",
    "    return pd.DataFrame(business_data['businesses'])"
   ],
   "metadata": {
    "collapsed": false,
    "pycharm": {
     "name": "#%%\n"
    }
   }
  },
  {
   "cell_type": "markdown",
   "source": [
    "Here we select 250 top rating Chinese restaurants near New York City."
   ],
   "metadata": {
    "collapsed": false,
    "pycharm": {
     "name": "#%% md\n"
    }
   }
  },
  {
   "cell_type": "code",
   "execution_count": 193,
   "outputs": [],
   "source": [
    "df = yelp_business_search()\n",
    "for i in range(50,200,50):\n",
    "    df = pd.concat([df,yelp_business_search(i)])"
   ],
   "metadata": {
    "collapsed": false,
    "pycharm": {
     "name": "#%%\n"
    }
   }
  },
  {
   "cell_type": "markdown",
   "source": [
    "## Dataset Modification\n",
    "> Modify and prepare the datasets for further analysis and mapping."
   ],
   "metadata": {
    "collapsed": false,
    "pycharm": {
     "name": "#%% md\n"
    }
   }
  },
  {
   "cell_type": "code",
   "execution_count": 194,
   "outputs": [],
   "source": [
    "#modify the coordinate data\n",
    "coordinates = df.coordinates\n",
    "lat = [i['latitude'] for i in coordinates]\n",
    "lon = [i['longitude'] for i in coordinates]\n",
    "df['latitude'] = lat\n",
    "df['longitude'] = lon\n",
    "df.drop('coordinates',axis=1,inplace=True)\n",
    "df['city'] = [i['city'] for i in df.location]\n",
    "df['state'] = [i['state'] for i in df.location]\n",
    "df['postal'] = [i['zip_code'] for i in df.location]"
   ],
   "metadata": {
    "collapsed": false,
    "pycharm": {
     "name": "#%%\n"
    }
   }
  },
  {
   "cell_type": "code",
   "execution_count": 195,
   "outputs": [
    {
     "name": "stdout",
     "output_type": "stream",
     "text": [
      "   index                      id                         alias  \\\n",
      "0      0  GYO8lvStXGZAfFDRlOxQ1Q  hotel-50-bowery-nyc-new-york   \n",
      "\n",
      "                  name                                          image_url  \\\n",
      "0  Hotel 50 Bowery NYC  https://s3-media3.fl.yelpcdn.com/bphoto/opMnr9...   \n",
      "\n",
      "   is_closed                                                url  review_count  \\\n",
      "0      False  https://www.yelp.com/biz/hotel-50-bowery-nyc-n...           200   \n",
      "\n",
      "                                          categories  rating  ... price  \\\n",
      "0  [{'alias': 'hotels', 'title': 'Hotels'}, {'ali...     4.5  ...    $$   \n",
      "\n",
      "                                            location         phone  \\\n",
      "0  {'address1': '50 Bowery', 'address2': None, 'a...  +12125088000   \n",
      "\n",
      "    display_phone     distance  latitude  longitude      city state postal  \n",
      "0  (212) 508-8000  1202.705247  40.71599  -73.99683  New York    NY  10013  \n",
      "\n",
      "[1 rows x 21 columns]\n"
     ]
    }
   ],
   "source": [
    "# Dataset information\n",
    "yelp_df = df.copy().reset_index()\n",
    "print(yelp_df[:1])"
   ],
   "metadata": {
    "collapsed": false,
    "pycharm": {
     "name": "#%%\n"
    }
   }
  },
  {
   "cell_type": "code",
   "execution_count": 196,
   "outputs": [
    {
     "data": {
      "text/plain": "200"
     },
     "execution_count": 196,
     "metadata": {},
     "output_type": "execute_result"
    }
   ],
   "source": [
    "# Dataset length:\n",
    "len(yelp_df)"
   ],
   "metadata": {
    "collapsed": false,
    "pycharm": {
     "name": "#%%\n"
    }
   }
  },
  {
   "cell_type": "code",
   "execution_count": 196,
   "outputs": [],
   "source": [],
   "metadata": {
    "collapsed": false,
    "pycharm": {
     "name": "#%%\n"
    }
   }
  },
  {
   "cell_type": "code",
   "execution_count": 197,
   "outputs": [
    {
     "data": {
      "application/vnd.plotly.v1+json": {
       "config": {
        "linkText": "Export to plot.ly",
        "plotlyServerURL": "https://plot.ly",
        "showLink": false
       },
       "data": [
        {
         "lat": [
          40.71599,
          40.762227,
          40.7226547813163,
          40.7254433174655,
          40.641174920131,
          40.738628,
          40.7186,
          40.713914,
          40.75605,
          40.747685,
          40.74094,
          40.70274718768062,
          40.74763,
          40.738437,
          40.612703,
          40.74029833,
          40.70586978591561,
          40.7033063330116,
          40.7183878,
          40.729330068469,
          40.70873,
          40.722237,
          40.72664,
          40.7542705,
          40.710658,
          40.70208865020039,
          40.719135,
          40.746042,
          40.715082,
          40.728,
          40.71931,
          40.702834,
          40.70717,
          40.7456218469168,
          40.7374217,
          40.7043756,
          40.7292063820076,
          40.71599,
          40.7275,
          40.72147,
          40.71605,
          40.72884,
          40.7297097529882,
          40.71769,
          40.71244,
          40.71876,
          40.71798,
          40.72249,
          40.758417,
          40.71827,
          40.71769,
          40.71244,
          40.71798,
          40.72249,
          40.758417,
          40.71827,
          40.721988,
          40.71436,
          40.7063449,
          40.70701,
          40.743292,
          40.7674213694566,
          40.7200099,
          40.713838,
          40.72412482724,
          40.733138,
          40.72734,
          40.72884,
          40.70707,
          40.714145,
          40.70788,
          40.7174109,
          40.70837,
          40.7263350655,
          40.72474046278671,
          40.7289298,
          40.70184,
          40.7357,
          40.73158,
          40.7327,
          40.71843,
          40.715608,
          40.72183,
          40.77878,
          40.71958,
          40.725639,
          40.736032,
          40.69869,
          40.72244,
          40.7205157,
          40.718598,
          40.7181606872639,
          40.707492,
          40.71526,
          40.71434,
          40.732704,
          40.6818,
          40.72238,
          40.696432423661,
          40.72549,
          40.74522,
          40.71506,
          40.7027,
          40.7300047976758,
          40.73372,
          40.69035,
          40.69023,
          40.72551,
          40.7267949,
          40.70766,
          40.6915156530047,
          40.7345163811398,
          40.726769311104,
          40.7190867,
          40.7440395,
          40.71944096840517,
          40.71534,
          40.72549,
          40.727947,
          40.71069,
          40.719878,
          40.719101,
          40.69979,
          40.6845433545275,
          40.71694,
          40.7162705535921,
          40.7244923,
          40.7143299,
          40.7303076612002,
          40.732484,
          40.73304,
          40.722821,
          40.7100847891067,
          40.73818,
          40.703595,
          40.7157,
          40.724811,
          40.726373,
          40.71887,
          40.72044,
          40.7197229753629,
          40.73343,
          40.712708,
          40.739691,
          40.6901481293837,
          40.727157,
          40.7185899,
          40.7228079872831,
          40.735088,
          40.727574,
          40.7197229753629,
          40.73343,
          40.712708,
          40.739691,
          40.6901481293837,
          40.727157,
          40.7185899,
          40.7228079872831,
          40.72186,
          40.71844,
          40.72346,
          40.72666,
          40.689436,
          40.7238251309896,
          40.723543,
          40.7383,
          40.715621,
          40.701729,
          40.714155,
          40.73844,
          40.72184,
          40.72639,
          40.714058,
          40.72063,
          40.7117670177852,
          40.72768,
          40.7198301,
          40.71417,
          40.71915,
          40.70347018353067,
          40.72583,
          40.689722,
          40.7176139,
          40.732765,
          40.71798,
          40.72615,
          40.747247,
          40.72043,
          40.73138,
          40.72369,
          40.7184736,
          40.73778,
          40.7263263267119,
          40.73293764919451,
          40.7416907417333,
          40.7122932799856,
          40.72866,
          40.68606512542637,
          40.7112749,
          40.72053
         ],
         "lon": [
          -73.99683,
          -73.9856178382696,
          -73.9592818829542,
          -73.99978085581971,
          -74.0036972986019,
          -73.98606,
          -73.96212,
          -74.009647,
          -73.97103,
          -73.987361,
          -73.9937,
          -73.99343490196397,
          -73.9868599,
          -73.985686,
          -73.943859,
          -74.00562667,
          -74.0019071664742,
          -73.9916549604523,
          -74.0015522,
          -74.0038400073579,
          -74.00574,
          -73.9875259,
          -73.99202,
          -73.9915885,
          -73.958872,
          -73.9894541379247,
          -73.991758,
          -73.983454,
          -73.997342,
          -74.0001497,
          -73.99689,
          -73.9905026,
          -74.00192,
          -74.0095717240814,
          -74.043067,
          -74.0105259,
          -73.9844848239426,
          -73.99683,
          -73.9838,
          -73.9847,
          -73.99169,
          -73.98965,
          -73.9891492245369,
          -74.00144,
          -73.994,
          -74.00073,
          -73.99042,
          -73.98336,
          -73.983301,
          -73.98806,
          -74.00144,
          -73.994,
          -73.99042,
          -73.98336,
          -73.983301,
          -73.98806,
          -73.992466,
          -73.99183,
          -74.0076944,
          -74.00356,
          -73.991097,
          -73.9810554368179,
          -73.993839,
          -73.98976,
          -73.9828906263924,
          -73.998044,
          -74.00001,
          -74.00488,
          -74.00244,
          -73.965322,
          -74.00194,
          -73.9920876,
          -74.00563,
          -73.9920476876,
          -73.99144358343166,
          -73.980601,
          -73.9958147,
          -74.00616,
          -74.00332,
          -73.99766,
          -73.98909,
          -73.998949,
          -73.98719,
          -73.97459,
          -73.99484,
          -73.991714,
          -73.994159,
          -73.99257,
          -74.00482,
          -73.9981652,
          -73.985186,
          -73.9976975651144,
          -74.002571,
          -73.99883,
          -73.99822,
          -74.004317,
          -74.00024,
          -73.98403,
          -73.9890010861378,
          -73.98803,
          -73.97827,
          -73.9916,
          -73.99314,
          -74.0006073834151,
          -74.00513,
          -73.99531,
          -73.99634,
          -73.98838,
          -73.9892815,
          -74.00205,
          -73.9846554,
          -73.9983369619683,
          -73.9847712789363,
          -73.9923073,
          -73.9881258,
          -73.9850998321304,
          -73.9914,
          -74.00489,
          -74.001393,
          -73.96559,
          -73.989063,
          -73.9938676,
          -73.99203,
          -73.9837775425761,
          -74.0057,
          -74.0072225927912,
          -73.9944022,
          -73.95604,
          -74.0068030357639,
          -74.003915,
          -74.00734,
          -74.00602,
          -73.9625787734985,
          -73.98866,
          -73.987903,
          -73.99663,
          -73.992832,
          -73.986557,
          -73.98701,
          -73.98412,
          -73.98919771717,
          -74.00617,
          -74.015919,
          -73.988428,
          -73.9935445412993,
          -73.983721,
          -73.9893704,
          -73.9833535829059,
          -73.9931414,
          -73.988623,
          -73.98919771717,
          -74.00617,
          -74.015919,
          -73.988428,
          -73.9935445412993,
          -73.983721,
          -73.9893704,
          -73.9833535829059,
          -74.00382,
          -73.98981,
          -73.9963118,
          -73.9773,
          -73.9723809,
          -74.0032896944427,
          -74.003199,
          -74.00932,
          -73.964757,
          -73.995882,
          -73.987064,
          -73.98825,
          -73.987714,
          -73.99236,
          -73.987381,
          -73.98539,
          -73.9646924963509,
          -73.98502,
          -74.0000708,
          -73.9937,
          -74.00994,
          -74.012096,
          -73.99299,
          -73.971003,
          -73.990234,
          -73.997284,
          -73.99042,
          -74.00216,
          -73.9843,
          -73.98894,
          -73.98902,
          -73.98489,
          -73.9600178,
          -74.00197,
          -74.0034471165676,
          -73.99758608256435,
          -73.9872074872255,
          -73.9628687873483,
          -74.00472,
          -73.99388911165558,
          -74.0068449,
          -73.95741
         ],
         "mode": "markers",
         "text": [
          "Hotel 50 Bowery NYC",
          "Toloache 50",
          "50 Kent Ave",
          "UNO de 50",
          "Yuan Bao 50 INC",
          "50 Gramarcy Park N Owners",
          "50 North 5th Apartments",
          "Tribeca House - 50 Murray",
          "Fifty Hotel & Suites, by Affinia",
          "Spot Karaoke & Lounge",
          "Sushi by Bou Flatiron",
          "Juliana's",
          "Karaoke City",
          "Maialino",
          "Good Fun Zone",
          "Helen's",
          "The Greens",
          "Cecconi's Dumbo",
          "Au Cheval",
          "Emily - West Village",
          "Kidville",
          "Katz's Delicatessen",
          "Sushi on Jones",
          "Mission Escape Games",
          "Traif",
          "Westville Dumbo",
          "LĒNA",
          "Sushi By Boū - NoMad",
          "Xi'an Famous Foods",
          "Carbone",
          "Hometown Hotpot & BBQ",
          "Evil Twin Brewing - Dumbo Taproom",
          "Fishmarket Restaurant",
          "Golf Club at Chelsea Piers",
          "Mission 50 Coworking & Meeting Space",
          "The Cauldron NYC",
          "Momofuku Noodle Bar - East Village",
          "The Crown",
          "Thursday Kitchen",
          "Subject",
          "King Dumplings",
          "McSorleys Old Ale House",
          "Angel's Share",
          "Live Axe",
          "Golden Diner",
          "Kimi iPhone Repair Cases & Accessories",
          "Dudley's",
          "The Hairy Lemon Pub",
          "Sushi Lab",
          "The Grand Delancey",
          "Live Axe",
          "Golden Diner",
          "Dudley's",
          "The Hairy Lemon Pub",
          "Sushi Lab",
          "The Grand Delancey",
          "Freemans",
          "Kiki’s Grill & Rotisserie",
          "Crown Shy",
          "Cobble & Co.",
          "Hole in The Wall - Flatiron",
          "Marea",
          "Sel Rrose",
          "Charles Hanson's 169 Soul Jazz Oyster Bar",
          "Tuome",
          "Mace",
          "Madame X",
          "Ollie",
          "Fresh Salt",
          "Sunday in Brooklyn",
          "Suteishi",
          "Shu Jiao Fu Zhou Cuisine Restaurant",
          "Hole In The Wall",
          "The Wren",
          "Momofuku Ko",
          "Raclette",
          "Harriet's Rooftop",
          "White Horse Tavern",
          "John's of Bleecker Street",
          "Amélie",
          "Hotel Chantelle",
          "Tonii’s Fresh Rice Noodle",
          "Dirty French",
          "Landmark on the Park",
          "Casa Bocado",
          "Bar Primi",
          "Manhattan Penthouse",
          "Henry's End",
          "Jimmy",
          "Compagnie des Vins Surnaturels",
          "Bills Flowers and Other Things",
          "Puglia Ristorante",
          "IL Brigante",
          "Basement",
          "Apotheke",
          "Buvette",
          "Lucali",
          "Il Posto Accanto",
          "Pilot",
          "MONO+MONO",
          "Blue Haven East",
          "Bar Belly",
          "Gran Electrica",
          "Minetta Tavern",
          "L'Artusi",
          "Elsa",
          "Lillo Cucina Italiana",
          "Soogil",
          "Nai Tapas",
          "Jeremy's Ale House- South Street Seaport",
          "Kimoto Rooftop",
          "Alta",
          "Ladybird",
          "Gem",
          "230 Fifth Rooftop Bar",
          "The Burgary",
          "Scarr's Pizza",
          "Altro Paradiso",
          "Miss Lily's",
          "Diner",
          "Contra",
          "Con Artist Collective",
          "Noodle Pudding",
          "Taiki",
          "Atera",
          "Tribeca's Kitchen",
          "Emilio's Ballato",
          "St. Anselm",
          "The Clam",
          "L'Accolade",
          "JeJu Noodle Bar",
          "Gitano Garden of Love",
          "Velvet Brooklyn",
          "Craft",
          "Vodega",
          "Nakaji",
          "Slainte Bar & Lounge",
          "Upstate Craft Beer & Oyster Bar",
          "Nurse Bettie",
          "Koneko",
          "Wildair",
          "Employees Only",
          "L'Appart",
          "Cosme",
          "Boutros",
          "Please Don't Tell",
          "The DL",
          "Root & Bone",
          "Corkbuzz Wine Studio",
          "Mighty Quinn's Barbeque",
          "Wildair",
          "Employees Only",
          "L'Appart",
          "Cosme",
          "Boutros",
          "Please Don't Tell",
          "The DL",
          "Root & Bone",
          "MAMO Restaurant",
          "Excuse My French",
          "La Pecora Bianca",
          "Virginia's",
          "Miss Ada",
          "Pera Soho",
          "Aurora Soho",
          "The Jane Ballroom",
          "Aurora",
          "1 Hotel Brooklyn Bridge",
          "Eastwood",
          "Gramercy Tavern",
          "Tre",
          "Bohemian Restaurant",
          "Bo Hai Dumpling Town",
          "Balvanera",
          "Butler",
          "Goodnight Sonny",
          "NOMO Kitchen",
          "Fong On",
          "American Cut Steakhouse Tribeca",
          "Ampia Rooftop",
          "Il Buco Alimentari & Vineria",
          "Evelina",
          "Las' Lap",
          "Wicked Jane",
          "Sticky Rice",
          "Raoul's Restaurant",
          "Tap Haus 33",
          "Trapizzino",
          "The Ainsworth - East Village",
          "Two Boots East Village",
          "Sweetwater Restaurant",
          "Don Angie",
          "Ciccio",
          "Loring Place",
          "Eleven Madison Park",
          "Rabbithole Restaurant",
          "Houston Hall",
          "June",
          "The Bar Room",
          "Bathhouse"
         ],
         "type": "scattermapbox"
        }
       ],
       "layout": {
        "autosize": true,
        "hovermode": "closest",
        "mapbox": {
         "accesstoken": "pk.eyJ1IjoicGF0cmlja2RkZCIsImEiOiJja3R5dGluOWEzNzE3MzFvMzR0MjRlZWVtIn0.ezHYtubmTTHs1z2n11c7yQ",
         "bearing": 0,
         "center": {
          "lat": 40.72078472850592,
          "lon": -73.9919760056893
         },
         "pitch": 0,
         "style": "light",
         "zoom": 10
        },
        "template": {
         "data": {
          "bar": [
           {
            "error_x": {
             "color": "#2a3f5f"
            },
            "error_y": {
             "color": "#2a3f5f"
            },
            "marker": {
             "line": {
              "color": "#E5ECF6",
              "width": 0.5
             },
             "pattern": {
              "fillmode": "overlay",
              "size": 10,
              "solidity": 0.2
             }
            },
            "type": "bar"
           }
          ],
          "barpolar": [
           {
            "marker": {
             "line": {
              "color": "#E5ECF6",
              "width": 0.5
             },
             "pattern": {
              "fillmode": "overlay",
              "size": 10,
              "solidity": 0.2
             }
            },
            "type": "barpolar"
           }
          ],
          "carpet": [
           {
            "aaxis": {
             "endlinecolor": "#2a3f5f",
             "gridcolor": "white",
             "linecolor": "white",
             "minorgridcolor": "white",
             "startlinecolor": "#2a3f5f"
            },
            "baxis": {
             "endlinecolor": "#2a3f5f",
             "gridcolor": "white",
             "linecolor": "white",
             "minorgridcolor": "white",
             "startlinecolor": "#2a3f5f"
            },
            "type": "carpet"
           }
          ],
          "choropleth": [
           {
            "colorbar": {
             "outlinewidth": 0,
             "ticks": ""
            },
            "type": "choropleth"
           }
          ],
          "contour": [
           {
            "colorbar": {
             "outlinewidth": 0,
             "ticks": ""
            },
            "colorscale": [
             [
              0.0,
              "#0d0887"
             ],
             [
              0.1111111111111111,
              "#46039f"
             ],
             [
              0.2222222222222222,
              "#7201a8"
             ],
             [
              0.3333333333333333,
              "#9c179e"
             ],
             [
              0.4444444444444444,
              "#bd3786"
             ],
             [
              0.5555555555555556,
              "#d8576b"
             ],
             [
              0.6666666666666666,
              "#ed7953"
             ],
             [
              0.7777777777777778,
              "#fb9f3a"
             ],
             [
              0.8888888888888888,
              "#fdca26"
             ],
             [
              1.0,
              "#f0f921"
             ]
            ],
            "type": "contour"
           }
          ],
          "contourcarpet": [
           {
            "colorbar": {
             "outlinewidth": 0,
             "ticks": ""
            },
            "type": "contourcarpet"
           }
          ],
          "heatmap": [
           {
            "colorbar": {
             "outlinewidth": 0,
             "ticks": ""
            },
            "colorscale": [
             [
              0.0,
              "#0d0887"
             ],
             [
              0.1111111111111111,
              "#46039f"
             ],
             [
              0.2222222222222222,
              "#7201a8"
             ],
             [
              0.3333333333333333,
              "#9c179e"
             ],
             [
              0.4444444444444444,
              "#bd3786"
             ],
             [
              0.5555555555555556,
              "#d8576b"
             ],
             [
              0.6666666666666666,
              "#ed7953"
             ],
             [
              0.7777777777777778,
              "#fb9f3a"
             ],
             [
              0.8888888888888888,
              "#fdca26"
             ],
             [
              1.0,
              "#f0f921"
             ]
            ],
            "type": "heatmap"
           }
          ],
          "heatmapgl": [
           {
            "colorbar": {
             "outlinewidth": 0,
             "ticks": ""
            },
            "colorscale": [
             [
              0.0,
              "#0d0887"
             ],
             [
              0.1111111111111111,
              "#46039f"
             ],
             [
              0.2222222222222222,
              "#7201a8"
             ],
             [
              0.3333333333333333,
              "#9c179e"
             ],
             [
              0.4444444444444444,
              "#bd3786"
             ],
             [
              0.5555555555555556,
              "#d8576b"
             ],
             [
              0.6666666666666666,
              "#ed7953"
             ],
             [
              0.7777777777777778,
              "#fb9f3a"
             ],
             [
              0.8888888888888888,
              "#fdca26"
             ],
             [
              1.0,
              "#f0f921"
             ]
            ],
            "type": "heatmapgl"
           }
          ],
          "histogram": [
           {
            "marker": {
             "pattern": {
              "fillmode": "overlay",
              "size": 10,
              "solidity": 0.2
             }
            },
            "type": "histogram"
           }
          ],
          "histogram2d": [
           {
            "colorbar": {
             "outlinewidth": 0,
             "ticks": ""
            },
            "colorscale": [
             [
              0.0,
              "#0d0887"
             ],
             [
              0.1111111111111111,
              "#46039f"
             ],
             [
              0.2222222222222222,
              "#7201a8"
             ],
             [
              0.3333333333333333,
              "#9c179e"
             ],
             [
              0.4444444444444444,
              "#bd3786"
             ],
             [
              0.5555555555555556,
              "#d8576b"
             ],
             [
              0.6666666666666666,
              "#ed7953"
             ],
             [
              0.7777777777777778,
              "#fb9f3a"
             ],
             [
              0.8888888888888888,
              "#fdca26"
             ],
             [
              1.0,
              "#f0f921"
             ]
            ],
            "type": "histogram2d"
           }
          ],
          "histogram2dcontour": [
           {
            "colorbar": {
             "outlinewidth": 0,
             "ticks": ""
            },
            "colorscale": [
             [
              0.0,
              "#0d0887"
             ],
             [
              0.1111111111111111,
              "#46039f"
             ],
             [
              0.2222222222222222,
              "#7201a8"
             ],
             [
              0.3333333333333333,
              "#9c179e"
             ],
             [
              0.4444444444444444,
              "#bd3786"
             ],
             [
              0.5555555555555556,
              "#d8576b"
             ],
             [
              0.6666666666666666,
              "#ed7953"
             ],
             [
              0.7777777777777778,
              "#fb9f3a"
             ],
             [
              0.8888888888888888,
              "#fdca26"
             ],
             [
              1.0,
              "#f0f921"
             ]
            ],
            "type": "histogram2dcontour"
           }
          ],
          "mesh3d": [
           {
            "colorbar": {
             "outlinewidth": 0,
             "ticks": ""
            },
            "type": "mesh3d"
           }
          ],
          "parcoords": [
           {
            "line": {
             "colorbar": {
              "outlinewidth": 0,
              "ticks": ""
             }
            },
            "type": "parcoords"
           }
          ],
          "pie": [
           {
            "automargin": true,
            "type": "pie"
           }
          ],
          "scatter": [
           {
            "marker": {
             "colorbar": {
              "outlinewidth": 0,
              "ticks": ""
             }
            },
            "type": "scatter"
           }
          ],
          "scatter3d": [
           {
            "line": {
             "colorbar": {
              "outlinewidth": 0,
              "ticks": ""
             }
            },
            "marker": {
             "colorbar": {
              "outlinewidth": 0,
              "ticks": ""
             }
            },
            "type": "scatter3d"
           }
          ],
          "scattercarpet": [
           {
            "marker": {
             "colorbar": {
              "outlinewidth": 0,
              "ticks": ""
             }
            },
            "type": "scattercarpet"
           }
          ],
          "scattergeo": [
           {
            "marker": {
             "colorbar": {
              "outlinewidth": 0,
              "ticks": ""
             }
            },
            "type": "scattergeo"
           }
          ],
          "scattergl": [
           {
            "marker": {
             "colorbar": {
              "outlinewidth": 0,
              "ticks": ""
             }
            },
            "type": "scattergl"
           }
          ],
          "scattermapbox": [
           {
            "marker": {
             "colorbar": {
              "outlinewidth": 0,
              "ticks": ""
             }
            },
            "type": "scattermapbox"
           }
          ],
          "scatterpolar": [
           {
            "marker": {
             "colorbar": {
              "outlinewidth": 0,
              "ticks": ""
             }
            },
            "type": "scatterpolar"
           }
          ],
          "scatterpolargl": [
           {
            "marker": {
             "colorbar": {
              "outlinewidth": 0,
              "ticks": ""
             }
            },
            "type": "scatterpolargl"
           }
          ],
          "scatterternary": [
           {
            "marker": {
             "colorbar": {
              "outlinewidth": 0,
              "ticks": ""
             }
            },
            "type": "scatterternary"
           }
          ],
          "surface": [
           {
            "colorbar": {
             "outlinewidth": 0,
             "ticks": ""
            },
            "colorscale": [
             [
              0.0,
              "#0d0887"
             ],
             [
              0.1111111111111111,
              "#46039f"
             ],
             [
              0.2222222222222222,
              "#7201a8"
             ],
             [
              0.3333333333333333,
              "#9c179e"
             ],
             [
              0.4444444444444444,
              "#bd3786"
             ],
             [
              0.5555555555555556,
              "#d8576b"
             ],
             [
              0.6666666666666666,
              "#ed7953"
             ],
             [
              0.7777777777777778,
              "#fb9f3a"
             ],
             [
              0.8888888888888888,
              "#fdca26"
             ],
             [
              1.0,
              "#f0f921"
             ]
            ],
            "type": "surface"
           }
          ],
          "table": [
           {
            "cells": {
             "fill": {
              "color": "#EBF0F8"
             },
             "line": {
              "color": "white"
             }
            },
            "header": {
             "fill": {
              "color": "#C8D4E3"
             },
             "line": {
              "color": "white"
             }
            },
            "type": "table"
           }
          ]
         },
         "layout": {
          "annotationdefaults": {
           "arrowcolor": "#2a3f5f",
           "arrowhead": 0,
           "arrowwidth": 1
          },
          "autotypenumbers": "strict",
          "coloraxis": {
           "colorbar": {
            "outlinewidth": 0,
            "ticks": ""
           }
          },
          "colorscale": {
           "diverging": [
            [
             0,
             "#8e0152"
            ],
            [
             0.1,
             "#c51b7d"
            ],
            [
             0.2,
             "#de77ae"
            ],
            [
             0.3,
             "#f1b6da"
            ],
            [
             0.4,
             "#fde0ef"
            ],
            [
             0.5,
             "#f7f7f7"
            ],
            [
             0.6,
             "#e6f5d0"
            ],
            [
             0.7,
             "#b8e186"
            ],
            [
             0.8,
             "#7fbc41"
            ],
            [
             0.9,
             "#4d9221"
            ],
            [
             1,
             "#276419"
            ]
           ],
           "sequential": [
            [
             0.0,
             "#0d0887"
            ],
            [
             0.1111111111111111,
             "#46039f"
            ],
            [
             0.2222222222222222,
             "#7201a8"
            ],
            [
             0.3333333333333333,
             "#9c179e"
            ],
            [
             0.4444444444444444,
             "#bd3786"
            ],
            [
             0.5555555555555556,
             "#d8576b"
            ],
            [
             0.6666666666666666,
             "#ed7953"
            ],
            [
             0.7777777777777778,
             "#fb9f3a"
            ],
            [
             0.8888888888888888,
             "#fdca26"
            ],
            [
             1.0,
             "#f0f921"
            ]
           ],
           "sequentialminus": [
            [
             0.0,
             "#0d0887"
            ],
            [
             0.1111111111111111,
             "#46039f"
            ],
            [
             0.2222222222222222,
             "#7201a8"
            ],
            [
             0.3333333333333333,
             "#9c179e"
            ],
            [
             0.4444444444444444,
             "#bd3786"
            ],
            [
             0.5555555555555556,
             "#d8576b"
            ],
            [
             0.6666666666666666,
             "#ed7953"
            ],
            [
             0.7777777777777778,
             "#fb9f3a"
            ],
            [
             0.8888888888888888,
             "#fdca26"
            ],
            [
             1.0,
             "#f0f921"
            ]
           ]
          },
          "colorway": [
           "#636efa",
           "#EF553B",
           "#00cc96",
           "#ab63fa",
           "#FFA15A",
           "#19d3f3",
           "#FF6692",
           "#B6E880",
           "#FF97FF",
           "#FECB52"
          ],
          "font": {
           "color": "#2a3f5f"
          },
          "geo": {
           "bgcolor": "white",
           "lakecolor": "white",
           "landcolor": "#E5ECF6",
           "showlakes": true,
           "showland": true,
           "subunitcolor": "white"
          },
          "hoverlabel": {
           "align": "left"
          },
          "hovermode": "closest",
          "mapbox": {
           "style": "light"
          },
          "paper_bgcolor": "white",
          "plot_bgcolor": "#E5ECF6",
          "polar": {
           "angularaxis": {
            "gridcolor": "white",
            "linecolor": "white",
            "ticks": ""
           },
           "bgcolor": "#E5ECF6",
           "radialaxis": {
            "gridcolor": "white",
            "linecolor": "white",
            "ticks": ""
           }
          },
          "scene": {
           "xaxis": {
            "backgroundcolor": "#E5ECF6",
            "gridcolor": "white",
            "gridwidth": 2,
            "linecolor": "white",
            "showbackground": true,
            "ticks": "",
            "zerolinecolor": "white"
           },
           "yaxis": {
            "backgroundcolor": "#E5ECF6",
            "gridcolor": "white",
            "gridwidth": 2,
            "linecolor": "white",
            "showbackground": true,
            "ticks": "",
            "zerolinecolor": "white"
           },
           "zaxis": {
            "backgroundcolor": "#E5ECF6",
            "gridcolor": "white",
            "gridwidth": 2,
            "linecolor": "white",
            "showbackground": true,
            "ticks": "",
            "zerolinecolor": "white"
           }
          },
          "shapedefaults": {
           "line": {
            "color": "#2a3f5f"
           }
          },
          "ternary": {
           "aaxis": {
            "gridcolor": "white",
            "linecolor": "white",
            "ticks": ""
           },
           "baxis": {
            "gridcolor": "white",
            "linecolor": "white",
            "ticks": ""
           },
           "bgcolor": "#E5ECF6",
           "caxis": {
            "gridcolor": "white",
            "linecolor": "white",
            "ticks": ""
           }
          },
          "title": {
           "x": 0.05
          },
          "xaxis": {
           "automargin": true,
           "gridcolor": "white",
           "linecolor": "white",
           "ticks": "",
           "title": {
            "standoff": 15
           },
           "zerolinecolor": "white",
           "zerolinewidth": 2
          },
          "yaxis": {
           "automargin": true,
           "gridcolor": "white",
           "linecolor": "white",
           "ticks": "",
           "title": {
            "standoff": 15
           },
           "zerolinecolor": "white",
           "zerolinewidth": 2
          }
         }
        },
        "title": {
         "text": "Chinese Restaurants on Yelp"
        }
       }
      },
      "text/html": "<div>                            <div id=\"2fdaf207-b775-4851-98de-3f685c9b8783\" class=\"plotly-graph-div\" style=\"height:525px; width:100%;\"></div>            <script type=\"text/javascript\">                require([\"plotly\"], function(Plotly) {                    window.PLOTLYENV=window.PLOTLYENV || {};                                    if (document.getElementById(\"2fdaf207-b775-4851-98de-3f685c9b8783\")) {                    Plotly.newPlot(                        \"2fdaf207-b775-4851-98de-3f685c9b8783\",                        [{\"lat\":[40.71599,40.762227,40.7226547813163,40.7254433174655,40.641174920131,40.738628,40.7186,40.713914,40.75605,40.747685,40.74094,40.70274718768062,40.74763,40.738437,40.612703,40.74029833,40.70586978591561,40.7033063330116,40.7183878,40.729330068469,40.70873,40.722237,40.72664,40.7542705,40.710658,40.70208865020039,40.719135,40.746042,40.715082,40.728,40.71931,40.702834,40.70717,40.7456218469168,40.7374217,40.7043756,40.7292063820076,40.71599,40.7275,40.72147,40.71605,40.72884,40.7297097529882,40.71769,40.71244,40.71876,40.71798,40.72249,40.758417,40.71827,40.71769,40.71244,40.71798,40.72249,40.758417,40.71827,40.721988,40.71436,40.7063449,40.70701,40.743292,40.7674213694566,40.7200099,40.713838,40.72412482724,40.733138,40.72734,40.72884,40.70707,40.714145,40.70788,40.7174109,40.70837,40.7263350655,40.72474046278671,40.7289298,40.70184,40.7357,40.73158,40.7327,40.71843,40.715608,40.72183,40.77878,40.71958,40.725639,40.736032,40.69869,40.72244,40.7205157,40.718598,40.7181606872639,40.707492,40.71526,40.71434,40.732704,40.6818,40.72238,40.696432423661,40.72549,40.74522,40.71506,40.7027,40.7300047976758,40.73372,40.69035,40.69023,40.72551,40.7267949,40.70766,40.6915156530047,40.7345163811398,40.726769311104,40.7190867,40.7440395,40.71944096840517,40.71534,40.72549,40.727947,40.71069,40.719878,40.719101,40.69979,40.6845433545275,40.71694,40.7162705535921,40.7244923,40.7143299,40.7303076612002,40.732484,40.73304,40.722821,40.7100847891067,40.73818,40.703595,40.7157,40.724811,40.726373,40.71887,40.72044,40.7197229753629,40.73343,40.712708,40.739691,40.6901481293837,40.727157,40.7185899,40.7228079872831,40.735088,40.727574,40.7197229753629,40.73343,40.712708,40.739691,40.6901481293837,40.727157,40.7185899,40.7228079872831,40.72186,40.71844,40.72346,40.72666,40.689436,40.7238251309896,40.723543,40.7383,40.715621,40.701729,40.714155,40.73844,40.72184,40.72639,40.714058,40.72063,40.7117670177852,40.72768,40.7198301,40.71417,40.71915,40.70347018353067,40.72583,40.689722,40.7176139,40.732765,40.71798,40.72615,40.747247,40.72043,40.73138,40.72369,40.7184736,40.73778,40.7263263267119,40.73293764919451,40.7416907417333,40.7122932799856,40.72866,40.68606512542637,40.7112749,40.72053],\"lon\":[-73.99683,-73.9856178382696,-73.9592818829542,-73.99978085581971,-74.0036972986019,-73.98606,-73.96212,-74.009647,-73.97103,-73.987361,-73.9937,-73.99343490196397,-73.9868599,-73.985686,-73.943859,-74.00562667,-74.0019071664742,-73.9916549604523,-74.0015522,-74.0038400073579,-74.00574,-73.9875259,-73.99202,-73.9915885,-73.958872,-73.9894541379247,-73.991758,-73.983454,-73.997342,-74.0001497,-73.99689,-73.9905026,-74.00192,-74.0095717240814,-74.043067,-74.0105259,-73.9844848239426,-73.99683,-73.9838,-73.9847,-73.99169,-73.98965,-73.9891492245369,-74.00144,-73.994,-74.00073,-73.99042,-73.98336,-73.983301,-73.98806,-74.00144,-73.994,-73.99042,-73.98336,-73.983301,-73.98806,-73.992466,-73.99183,-74.0076944,-74.00356,-73.991097,-73.9810554368179,-73.993839,-73.98976,-73.9828906263924,-73.998044,-74.00001,-74.00488,-74.00244,-73.965322,-74.00194,-73.9920876,-74.00563,-73.9920476876,-73.99144358343166,-73.980601,-73.9958147,-74.00616,-74.00332,-73.99766,-73.98909,-73.998949,-73.98719,-73.97459,-73.99484,-73.991714,-73.994159,-73.99257,-74.00482,-73.9981652,-73.985186,-73.9976975651144,-74.002571,-73.99883,-73.99822,-74.004317,-74.00024,-73.98403,-73.9890010861378,-73.98803,-73.97827,-73.9916,-73.99314,-74.0006073834151,-74.00513,-73.99531,-73.99634,-73.98838,-73.9892815,-74.00205,-73.9846554,-73.9983369619683,-73.9847712789363,-73.9923073,-73.9881258,-73.9850998321304,-73.9914,-74.00489,-74.001393,-73.96559,-73.989063,-73.9938676,-73.99203,-73.9837775425761,-74.0057,-74.0072225927912,-73.9944022,-73.95604,-74.0068030357639,-74.003915,-74.00734,-74.00602,-73.9625787734985,-73.98866,-73.987903,-73.99663,-73.992832,-73.986557,-73.98701,-73.98412,-73.98919771717,-74.00617,-74.015919,-73.988428,-73.9935445412993,-73.983721,-73.9893704,-73.9833535829059,-73.9931414,-73.988623,-73.98919771717,-74.00617,-74.015919,-73.988428,-73.9935445412993,-73.983721,-73.9893704,-73.9833535829059,-74.00382,-73.98981,-73.9963118,-73.9773,-73.9723809,-74.0032896944427,-74.003199,-74.00932,-73.964757,-73.995882,-73.987064,-73.98825,-73.987714,-73.99236,-73.987381,-73.98539,-73.9646924963509,-73.98502,-74.0000708,-73.9937,-74.00994,-74.012096,-73.99299,-73.971003,-73.990234,-73.997284,-73.99042,-74.00216,-73.9843,-73.98894,-73.98902,-73.98489,-73.9600178,-74.00197,-74.0034471165676,-73.99758608256435,-73.9872074872255,-73.9628687873483,-74.00472,-73.99388911165558,-74.0068449,-73.95741],\"mode\":\"markers\",\"text\":[\"Hotel 50 Bowery NYC\",\"Toloache 50\",\"50 Kent Ave\",\"UNO de 50\",\"Yuan Bao 50 INC\",\"50 Gramarcy Park N Owners\",\"50 North 5th Apartments\",\"Tribeca House - 50 Murray\",\"Fifty Hotel & Suites, by Affinia\",\"Spot Karaoke & Lounge\",\"Sushi by Bou Flatiron\",\"Juliana's\",\"Karaoke City\",\"Maialino\",\"Good Fun Zone\",\"Helen's\",\"The Greens\",\"Cecconi's Dumbo\",\"Au Cheval\",\"Emily - West Village\",\"Kidville\",\"Katz's Delicatessen\",\"Sushi on Jones\",\"Mission Escape Games\",\"Traif\",\"Westville Dumbo\",\"L\\u0112NA\",\"Sushi By Bo\\u016b - NoMad\",\"Xi'an Famous Foods\",\"Carbone\",\"Hometown Hotpot & BBQ\",\"Evil Twin Brewing - Dumbo Taproom\",\"Fishmarket Restaurant\",\"Golf Club at Chelsea Piers\",\"Mission 50 Coworking & Meeting Space\",\"The Cauldron NYC\",\"Momofuku Noodle Bar - East Village\",\"The Crown\",\"Thursday Kitchen\",\"Subject\",\"King Dumplings\",\"McSorleys Old Ale House\",\"Angel's Share\",\"Live Axe\",\"Golden Diner\",\"Kimi iPhone Repair Cases & Accessories\",\"Dudley's\",\"The Hairy Lemon Pub\",\"Sushi Lab\",\"The Grand Delancey\",\"Live Axe\",\"Golden Diner\",\"Dudley's\",\"The Hairy Lemon Pub\",\"Sushi Lab\",\"The Grand Delancey\",\"Freemans\",\"Kiki\\u2019s Grill & Rotisserie\",\"Crown Shy\",\"Cobble & Co.\",\"Hole in The Wall - Flatiron\",\"Marea\",\"Sel Rrose\",\"Charles Hanson's 169 Soul Jazz Oyster Bar\",\"Tuome\",\"Mace\",\"Madame X\",\"Ollie\",\"Fresh Salt\",\"Sunday in Brooklyn\",\"Suteishi\",\"Shu Jiao Fu Zhou Cuisine Restaurant\",\"Hole In The Wall\",\"The Wren\",\"Momofuku Ko\",\"Raclette\",\"Harriet's Rooftop\",\"White Horse Tavern\",\"John's of Bleecker Street\",\"Am\\u00e9lie\",\"Hotel Chantelle\",\"Tonii\\u2019s Fresh Rice Noodle\",\"Dirty French\",\"Landmark on the Park\",\"Casa Bocado\",\"Bar Primi\",\"Manhattan Penthouse\",\"Henry's End\",\"Jimmy\",\"Compagnie des Vins Surnaturels\",\"Bills Flowers and Other Things\",\"Puglia Ristorante\",\"IL Brigante\",\"Basement\",\"Apotheke\",\"Buvette\",\"Lucali\",\"Il Posto Accanto\",\"Pilot\",\"MONO+MONO\",\"Blue Haven East\",\"Bar Belly\",\"Gran Electrica\",\"Minetta Tavern\",\"L'Artusi\",\"Elsa\",\"Lillo Cucina Italiana\",\"Soogil\",\"Nai Tapas\",\"Jeremy's Ale House- South Street Seaport\",\"Kimoto Rooftop\",\"Alta\",\"Ladybird\",\"Gem\",\"230 Fifth Rooftop Bar\",\"The Burgary\",\"Scarr's Pizza\",\"Altro Paradiso\",\"Miss Lily's\",\"Diner\",\"Contra\",\"Con Artist Collective\",\"Noodle Pudding\",\"Taiki\",\"Atera\",\"Tribeca's Kitchen\",\"Emilio's Ballato\",\"St. Anselm\",\"The Clam\",\"L'Accolade\",\"JeJu Noodle Bar\",\"Gitano Garden of Love\",\"Velvet Brooklyn\",\"Craft\",\"Vodega\",\"Nakaji\",\"Slainte Bar & Lounge\",\"Upstate Craft Beer & Oyster Bar\",\"Nurse Bettie\",\"Koneko\",\"Wildair\",\"Employees Only\",\"L'Appart\",\"Cosme\",\"Boutros\",\"Please Don't Tell\",\"The DL\",\"Root & Bone\",\"Corkbuzz Wine Studio\",\"Mighty Quinn's Barbeque\",\"Wildair\",\"Employees Only\",\"L'Appart\",\"Cosme\",\"Boutros\",\"Please Don't Tell\",\"The DL\",\"Root & Bone\",\"MAMO Restaurant\",\"Excuse My French\",\"La Pecora Bianca\",\"Virginia's\",\"Miss Ada\",\"Pera Soho\",\"Aurora Soho\",\"The Jane Ballroom\",\"Aurora\",\"1 Hotel Brooklyn Bridge\",\"Eastwood\",\"Gramercy Tavern\",\"Tre\",\"Bohemian Restaurant\",\"Bo Hai Dumpling Town\",\"Balvanera\",\"Butler\",\"Goodnight Sonny\",\"NOMO Kitchen\",\"Fong On\",\"American Cut Steakhouse Tribeca\",\"Ampia Rooftop\",\"Il Buco Alimentari & Vineria\",\"Evelina\",\"Las' Lap\",\"Wicked Jane\",\"Sticky Rice\",\"Raoul's Restaurant\",\"Tap Haus 33\",\"Trapizzino\",\"The Ainsworth - East Village\",\"Two Boots East Village\",\"Sweetwater Restaurant\",\"Don Angie\",\"Ciccio\",\"Loring Place\",\"Eleven Madison Park\",\"Rabbithole Restaurant\",\"Houston Hall\",\"June\",\"The Bar Room\",\"Bathhouse\"],\"type\":\"scattermapbox\"}],                        {\"autosize\":true,\"hovermode\":\"closest\",\"mapbox\":{\"accesstoken\":\"pk.eyJ1IjoicGF0cmlja2RkZCIsImEiOiJja3R5dGluOWEzNzE3MzFvMzR0MjRlZWVtIn0.ezHYtubmTTHs1z2n11c7yQ\",\"bearing\":0,\"center\":{\"lat\":40.72078472850592,\"lon\":-73.9919760056893},\"pitch\":0,\"style\":\"light\",\"zoom\":10},\"template\":{\"data\":{\"bar\":[{\"error_x\":{\"color\":\"#2a3f5f\"},\"error_y\":{\"color\":\"#2a3f5f\"},\"marker\":{\"line\":{\"color\":\"#E5ECF6\",\"width\":0.5},\"pattern\":{\"fillmode\":\"overlay\",\"size\":10,\"solidity\":0.2}},\"type\":\"bar\"}],\"barpolar\":[{\"marker\":{\"line\":{\"color\":\"#E5ECF6\",\"width\":0.5},\"pattern\":{\"fillmode\":\"overlay\",\"size\":10,\"solidity\":0.2}},\"type\":\"barpolar\"}],\"carpet\":[{\"aaxis\":{\"endlinecolor\":\"#2a3f5f\",\"gridcolor\":\"white\",\"linecolor\":\"white\",\"minorgridcolor\":\"white\",\"startlinecolor\":\"#2a3f5f\"},\"baxis\":{\"endlinecolor\":\"#2a3f5f\",\"gridcolor\":\"white\",\"linecolor\":\"white\",\"minorgridcolor\":\"white\",\"startlinecolor\":\"#2a3f5f\"},\"type\":\"carpet\"}],\"choropleth\":[{\"colorbar\":{\"outlinewidth\":0,\"ticks\":\"\"},\"type\":\"choropleth\"}],\"contour\":[{\"colorbar\":{\"outlinewidth\":0,\"ticks\":\"\"},\"colorscale\":[[0.0,\"#0d0887\"],[0.1111111111111111,\"#46039f\"],[0.2222222222222222,\"#7201a8\"],[0.3333333333333333,\"#9c179e\"],[0.4444444444444444,\"#bd3786\"],[0.5555555555555556,\"#d8576b\"],[0.6666666666666666,\"#ed7953\"],[0.7777777777777778,\"#fb9f3a\"],[0.8888888888888888,\"#fdca26\"],[1.0,\"#f0f921\"]],\"type\":\"contour\"}],\"contourcarpet\":[{\"colorbar\":{\"outlinewidth\":0,\"ticks\":\"\"},\"type\":\"contourcarpet\"}],\"heatmap\":[{\"colorbar\":{\"outlinewidth\":0,\"ticks\":\"\"},\"colorscale\":[[0.0,\"#0d0887\"],[0.1111111111111111,\"#46039f\"],[0.2222222222222222,\"#7201a8\"],[0.3333333333333333,\"#9c179e\"],[0.4444444444444444,\"#bd3786\"],[0.5555555555555556,\"#d8576b\"],[0.6666666666666666,\"#ed7953\"],[0.7777777777777778,\"#fb9f3a\"],[0.8888888888888888,\"#fdca26\"],[1.0,\"#f0f921\"]],\"type\":\"heatmap\"}],\"heatmapgl\":[{\"colorbar\":{\"outlinewidth\":0,\"ticks\":\"\"},\"colorscale\":[[0.0,\"#0d0887\"],[0.1111111111111111,\"#46039f\"],[0.2222222222222222,\"#7201a8\"],[0.3333333333333333,\"#9c179e\"],[0.4444444444444444,\"#bd3786\"],[0.5555555555555556,\"#d8576b\"],[0.6666666666666666,\"#ed7953\"],[0.7777777777777778,\"#fb9f3a\"],[0.8888888888888888,\"#fdca26\"],[1.0,\"#f0f921\"]],\"type\":\"heatmapgl\"}],\"histogram\":[{\"marker\":{\"pattern\":{\"fillmode\":\"overlay\",\"size\":10,\"solidity\":0.2}},\"type\":\"histogram\"}],\"histogram2d\":[{\"colorbar\":{\"outlinewidth\":0,\"ticks\":\"\"},\"colorscale\":[[0.0,\"#0d0887\"],[0.1111111111111111,\"#46039f\"],[0.2222222222222222,\"#7201a8\"],[0.3333333333333333,\"#9c179e\"],[0.4444444444444444,\"#bd3786\"],[0.5555555555555556,\"#d8576b\"],[0.6666666666666666,\"#ed7953\"],[0.7777777777777778,\"#fb9f3a\"],[0.8888888888888888,\"#fdca26\"],[1.0,\"#f0f921\"]],\"type\":\"histogram2d\"}],\"histogram2dcontour\":[{\"colorbar\":{\"outlinewidth\":0,\"ticks\":\"\"},\"colorscale\":[[0.0,\"#0d0887\"],[0.1111111111111111,\"#46039f\"],[0.2222222222222222,\"#7201a8\"],[0.3333333333333333,\"#9c179e\"],[0.4444444444444444,\"#bd3786\"],[0.5555555555555556,\"#d8576b\"],[0.6666666666666666,\"#ed7953\"],[0.7777777777777778,\"#fb9f3a\"],[0.8888888888888888,\"#fdca26\"],[1.0,\"#f0f921\"]],\"type\":\"histogram2dcontour\"}],\"mesh3d\":[{\"colorbar\":{\"outlinewidth\":0,\"ticks\":\"\"},\"type\":\"mesh3d\"}],\"parcoords\":[{\"line\":{\"colorbar\":{\"outlinewidth\":0,\"ticks\":\"\"}},\"type\":\"parcoords\"}],\"pie\":[{\"automargin\":true,\"type\":\"pie\"}],\"scatter\":[{\"marker\":{\"colorbar\":{\"outlinewidth\":0,\"ticks\":\"\"}},\"type\":\"scatter\"}],\"scatter3d\":[{\"line\":{\"colorbar\":{\"outlinewidth\":0,\"ticks\":\"\"}},\"marker\":{\"colorbar\":{\"outlinewidth\":0,\"ticks\":\"\"}},\"type\":\"scatter3d\"}],\"scattercarpet\":[{\"marker\":{\"colorbar\":{\"outlinewidth\":0,\"ticks\":\"\"}},\"type\":\"scattercarpet\"}],\"scattergeo\":[{\"marker\":{\"colorbar\":{\"outlinewidth\":0,\"ticks\":\"\"}},\"type\":\"scattergeo\"}],\"scattergl\":[{\"marker\":{\"colorbar\":{\"outlinewidth\":0,\"ticks\":\"\"}},\"type\":\"scattergl\"}],\"scattermapbox\":[{\"marker\":{\"colorbar\":{\"outlinewidth\":0,\"ticks\":\"\"}},\"type\":\"scattermapbox\"}],\"scatterpolar\":[{\"marker\":{\"colorbar\":{\"outlinewidth\":0,\"ticks\":\"\"}},\"type\":\"scatterpolar\"}],\"scatterpolargl\":[{\"marker\":{\"colorbar\":{\"outlinewidth\":0,\"ticks\":\"\"}},\"type\":\"scatterpolargl\"}],\"scatterternary\":[{\"marker\":{\"colorbar\":{\"outlinewidth\":0,\"ticks\":\"\"}},\"type\":\"scatterternary\"}],\"surface\":[{\"colorbar\":{\"outlinewidth\":0,\"ticks\":\"\"},\"colorscale\":[[0.0,\"#0d0887\"],[0.1111111111111111,\"#46039f\"],[0.2222222222222222,\"#7201a8\"],[0.3333333333333333,\"#9c179e\"],[0.4444444444444444,\"#bd3786\"],[0.5555555555555556,\"#d8576b\"],[0.6666666666666666,\"#ed7953\"],[0.7777777777777778,\"#fb9f3a\"],[0.8888888888888888,\"#fdca26\"],[1.0,\"#f0f921\"]],\"type\":\"surface\"}],\"table\":[{\"cells\":{\"fill\":{\"color\":\"#EBF0F8\"},\"line\":{\"color\":\"white\"}},\"header\":{\"fill\":{\"color\":\"#C8D4E3\"},\"line\":{\"color\":\"white\"}},\"type\":\"table\"}]},\"layout\":{\"annotationdefaults\":{\"arrowcolor\":\"#2a3f5f\",\"arrowhead\":0,\"arrowwidth\":1},\"autotypenumbers\":\"strict\",\"coloraxis\":{\"colorbar\":{\"outlinewidth\":0,\"ticks\":\"\"}},\"colorscale\":{\"diverging\":[[0,\"#8e0152\"],[0.1,\"#c51b7d\"],[0.2,\"#de77ae\"],[0.3,\"#f1b6da\"],[0.4,\"#fde0ef\"],[0.5,\"#f7f7f7\"],[0.6,\"#e6f5d0\"],[0.7,\"#b8e186\"],[0.8,\"#7fbc41\"],[0.9,\"#4d9221\"],[1,\"#276419\"]],\"sequential\":[[0.0,\"#0d0887\"],[0.1111111111111111,\"#46039f\"],[0.2222222222222222,\"#7201a8\"],[0.3333333333333333,\"#9c179e\"],[0.4444444444444444,\"#bd3786\"],[0.5555555555555556,\"#d8576b\"],[0.6666666666666666,\"#ed7953\"],[0.7777777777777778,\"#fb9f3a\"],[0.8888888888888888,\"#fdca26\"],[1.0,\"#f0f921\"]],\"sequentialminus\":[[0.0,\"#0d0887\"],[0.1111111111111111,\"#46039f\"],[0.2222222222222222,\"#7201a8\"],[0.3333333333333333,\"#9c179e\"],[0.4444444444444444,\"#bd3786\"],[0.5555555555555556,\"#d8576b\"],[0.6666666666666666,\"#ed7953\"],[0.7777777777777778,\"#fb9f3a\"],[0.8888888888888888,\"#fdca26\"],[1.0,\"#f0f921\"]]},\"colorway\":[\"#636efa\",\"#EF553B\",\"#00cc96\",\"#ab63fa\",\"#FFA15A\",\"#19d3f3\",\"#FF6692\",\"#B6E880\",\"#FF97FF\",\"#FECB52\"],\"font\":{\"color\":\"#2a3f5f\"},\"geo\":{\"bgcolor\":\"white\",\"lakecolor\":\"white\",\"landcolor\":\"#E5ECF6\",\"showlakes\":true,\"showland\":true,\"subunitcolor\":\"white\"},\"hoverlabel\":{\"align\":\"left\"},\"hovermode\":\"closest\",\"mapbox\":{\"style\":\"light\"},\"paper_bgcolor\":\"white\",\"plot_bgcolor\":\"#E5ECF6\",\"polar\":{\"angularaxis\":{\"gridcolor\":\"white\",\"linecolor\":\"white\",\"ticks\":\"\"},\"bgcolor\":\"#E5ECF6\",\"radialaxis\":{\"gridcolor\":\"white\",\"linecolor\":\"white\",\"ticks\":\"\"}},\"scene\":{\"xaxis\":{\"backgroundcolor\":\"#E5ECF6\",\"gridcolor\":\"white\",\"gridwidth\":2,\"linecolor\":\"white\",\"showbackground\":true,\"ticks\":\"\",\"zerolinecolor\":\"white\"},\"yaxis\":{\"backgroundcolor\":\"#E5ECF6\",\"gridcolor\":\"white\",\"gridwidth\":2,\"linecolor\":\"white\",\"showbackground\":true,\"ticks\":\"\",\"zerolinecolor\":\"white\"},\"zaxis\":{\"backgroundcolor\":\"#E5ECF6\",\"gridcolor\":\"white\",\"gridwidth\":2,\"linecolor\":\"white\",\"showbackground\":true,\"ticks\":\"\",\"zerolinecolor\":\"white\"}},\"shapedefaults\":{\"line\":{\"color\":\"#2a3f5f\"}},\"ternary\":{\"aaxis\":{\"gridcolor\":\"white\",\"linecolor\":\"white\",\"ticks\":\"\"},\"baxis\":{\"gridcolor\":\"white\",\"linecolor\":\"white\",\"ticks\":\"\"},\"bgcolor\":\"#E5ECF6\",\"caxis\":{\"gridcolor\":\"white\",\"linecolor\":\"white\",\"ticks\":\"\"}},\"title\":{\"x\":0.05},\"xaxis\":{\"automargin\":true,\"gridcolor\":\"white\",\"linecolor\":\"white\",\"ticks\":\"\",\"title\":{\"standoff\":15},\"zerolinecolor\":\"white\",\"zerolinewidth\":2},\"yaxis\":{\"automargin\":true,\"gridcolor\":\"white\",\"linecolor\":\"white\",\"ticks\":\"\",\"title\":{\"standoff\":15},\"zerolinecolor\":\"white\",\"zerolinewidth\":2}}},\"title\":{\"text\":\"Chinese Restaurants on Yelp\"}},                        {\"responsive\": true}                    ).then(function(){\n                            \nvar gd = document.getElementById('2fdaf207-b775-4851-98de-3f685c9b8783');\nvar x = new MutationObserver(function (mutations, observer) {{\n        var display = window.getComputedStyle(gd).display;\n        if (!display || display === 'none') {{\n            console.log([gd, 'removed!']);\n            Plotly.purge(gd);\n            observer.disconnect();\n        }}\n}});\n\n// Listen for the removal of the full notebook cells\nvar notebookContainer = gd.closest('#notebook-container');\nif (notebookContainer) {{\n    x.observe(notebookContainer, {childList: true});\n}}\n\n// Listen for the clearing of the current output cell\nvar outputEl = gd.closest('.output');\nif (outputEl) {{\n    x.observe(outputEl, {childList: true});\n}}\n\n                        })                };                });            </script>        </div>"
     },
     "metadata": {},
     "output_type": "display_data"
    }
   ],
   "source": [
    "#locate the middle of the map by calculate the mean of the latitude and longitude\n",
    "lat_mean = yelp_df.latitude.mean()\n",
    "lon_mean = yelp_df.longitude.mean()\n",
    "\n",
    "# import plotly for plotting interactive map\n",
    "hov_label = yelp_df['name']\n",
    "\n",
    "# use mapbox token\n",
    "#this is a private token key, please access mapbox for your own token\n",
    "tkn = 'pk.eyJ1IjoicGF0cmlja2RkZCIsImEiOiJja3R5dGluOWEzNzE3MzFvMzR0MjRlZWVtIn0.ezHYtubmTTHs1z2n11c7yQ'\n",
    "\n",
    "data = Data([Scattermapbox(lat=yelp_df.latitude.tolist(),\n",
    "                           lon=yelp_df.longitude.tolist(),\n",
    "                                       mode='markers',\n",
    "                                       text=hov_label)])\n",
    "layout = Layout(title='Chinese Restaurants on Yelp',\n",
    "                autosize=True,\n",
    "                hovermode='closest',\n",
    "                mapbox=dict(accesstoken=tkn,\n",
    "                            bearing=0,\n",
    "                            center=dict(lat=lat_mean, lon=lon_mean),\n",
    "                            style='light',\n",
    "                            pitch=0,\n",
    "                            zoom=10))\n",
    "\n",
    "fig=dict(data=data, layout=layout)\n",
    "plotly.offline.iplot(fig, filename='mapbox')"
   ],
   "metadata": {
    "collapsed": false,
    "pycharm": {
     "name": "#%%\n"
    }
   }
  },
  {
   "cell_type": "code",
   "execution_count": 197,
   "outputs": [],
   "source": [],
   "metadata": {
    "collapsed": false,
    "pycharm": {
     "name": "#%%\n"
    }
   }
  }
 ],
 "metadata": {
  "kernelspec": {
   "display_name": "Python 3",
   "language": "python",
   "name": "python3"
  },
  "language_info": {
   "codemirror_mode": {
    "name": "ipython",
    "version": 2
   },
   "file_extension": ".py",
   "mimetype": "text/x-python",
   "name": "python",
   "nbconvert_exporter": "python",
   "pygments_lexer": "ipython2",
   "version": "2.7.6"
  }
 },
 "nbformat": 4,
 "nbformat_minor": 0
}